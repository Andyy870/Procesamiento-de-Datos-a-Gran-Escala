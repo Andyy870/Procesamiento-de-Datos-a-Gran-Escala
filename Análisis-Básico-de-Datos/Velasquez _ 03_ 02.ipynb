{
 "cells": [
  {
   "cell_type": "markdown",
   "metadata": {
    "application/vnd.databricks.v1+cell": {
     "cellMetadata": {
      "byteLimit": 2048000,
      "rowLimit": 10000
     },
     "inputWidgets": {},
     "nuid": "5b6ad6cb-7563-4bbe-9a43-23d2f6fe1cd6",
     "showTitle": false,
     "tableResultSettingsMap": {},
     "title": ""
    }
   },
   "source": [
    "----------------------------------------------------------------\n",
    "\n",
    "**Fechas**: 03-02-2025, 10-02-2025, 17-02-2025\n",
    "\n",
    "**Autor**: Paula Andrea Velasquez Romero\n",
    "\n",
    "**Materia:** Procesamiento de datos a gran escala \n",
    "\n",
    "**Tópico:** Introducción a Pyspark en el Ambiente Databricks \n",
    "----------------------------------------------------------------"
   ]
  },
  {
   "cell_type": "code",
   "execution_count": 0,
   "metadata": {
    "application/vnd.databricks.v1+cell": {
     "cellMetadata": {
      "byteLimit": 2048000,
      "rowLimit": 10000
     },
     "inputWidgets": {},
     "nuid": "9464bb0a-f174-4fb8-8c0e-cadb02bc5b69",
     "showTitle": false,
     "tableResultSettingsMap": {},
     "title": ""
    }
   },
   "outputs": [],
   "source": [
    "import numpy as up \n",
    "import matplotlib.pyplot as plt\n",
    "import seaborn as sns \n",
    "\n",
    "from pyspark.sql import SQLContext\n",
    "from pyspark.sql.types import *\n",
    "from pyspark.sql.functions import mean , col, split, count , when , lit , isnan"
   ]
  },
  {
   "cell_type": "code",
   "execution_count": 0,
   "metadata": {
    "application/vnd.databricks.v1+cell": {
     "cellMetadata": {
      "byteLimit": 2048000,
      "rowLimit": 10000
     },
     "inputWidgets": {},
     "nuid": "1a84ad16-d386-4809-8953-10853b7fedd9",
     "showTitle": false,
     "tableResultSettingsMap": {},
     "title": ""
    }
   },
   "outputs": [
    {
     "output_type": "execute_result",
     "data": {
      "text/html": [
       "\n",
       "            <div>\n",
       "                <p><b>SparkSession - hive</b></p>\n",
       "                \n",
       "        <div>\n",
       "            <p><b>SparkContext</b></p>\n",
       "\n",
       "            <p><a href=\"/?o=3601310417475608#setting/sparkui/0217-121330-mosjeae6/driver-914657138177449524\">Spark UI</a></p>\n",
       "\n",
       "            <dl>\n",
       "              <dt>Version</dt>\n",
       "                <dd><code>v3.5.0</code></dd>\n",
       "              <dt>Master</dt>\n",
       "                <dd><code>local[8]</code></dd>\n",
       "              <dt>AppName</dt>\n",
       "                <dd><code>Databricks Shell</code></dd>\n",
       "            </dl>\n",
       "        </div>\n",
       "        \n",
       "            </div>\n",
       "        "
      ],
      "text/plain": [
       "<pyspark.sql.session.SparkSession at 0x7f16eaeac090>"
      ]
     },
     "execution_count": 30,
     "metadata": {},
     "output_type": "execute_result"
    }
   ],
   "source": [
    "#Descripción del entorno\n",
    "spark"
   ]
  },
  {
   "cell_type": "code",
   "execution_count": 0,
   "metadata": {
    "application/vnd.databricks.v1+cell": {
     "cellMetadata": {
      "byteLimit": 2048000,
      "rowLimit": 10000
     },
     "inputWidgets": {},
     "nuid": "2a24f089-cd52-447b-bfbd-dff26de7d421",
     "showTitle": false,
     "tableResultSettingsMap": {},
     "title": ""
    }
   },
   "outputs": [
    {
     "output_type": "execute_result",
     "data": {
      "text/plain": [
       "['_c0',\n",
       " '_c1',\n",
       " '_c2',\n",
       " '_c3',\n",
       " '_c4',\n",
       " '_c5',\n",
       " '_c6',\n",
       " '_c7',\n",
       " '_c8',\n",
       " '_c9',\n",
       " '_c10',\n",
       " '_c11']"
      ]
     },
     "execution_count": 31,
     "metadata": {},
     "output_type": "execute_result"
    }
   ],
   "source": [
    "#Cargar los Datos\n",
    "df00 = spark.read.table(\"default.stroke_pyspark_1_csv\")\n",
    "df00.columns "
   ]
  },
  {
   "cell_type": "markdown",
   "metadata": {
    "application/vnd.databricks.v1+cell": {
     "cellMetadata": {
      "byteLimit": 2048000,
      "rowLimit": 10000
     },
     "inputWidgets": {},
     "nuid": "2166dbcc-8d25-4052-8406-df0f2ba720a9",
     "showTitle": false,
     "tableResultSettingsMap": {},
     "title": ""
    }
   },
   "source": [
    "#####1. Se cambian los nombres de las columnas \n"
   ]
  },
  {
   "cell_type": "code",
   "execution_count": 0,
   "metadata": {
    "application/vnd.databricks.v1+cell": {
     "cellMetadata": {
      "byteLimit": 2048000,
      "rowLimit": 10000
     },
     "inputWidgets": {},
     "nuid": "51f9c6ac-bdfc-4c6a-9fe7-4144ad9c7bd6",
     "showTitle": false,
     "tableResultSettingsMap": {},
     "title": ""
    }
   },
   "outputs": [],
   "source": [
    "nuevosNombres = ['id',\n",
    " 'genero',\n",
    " 'edad',\n",
    " 'hipertension',\n",
    " 'enfCardiaca',\n",
    " 'EdoCivil',\n",
    " 'trabajo',\n",
    " 'Residencia',\n",
    " 'Niveldeglucosaprom',\n",
    " 'IMC',\n",
    " 'Fumador',\n",
    " 'Paro Cardiaco']\n",
    "\n",
    "df01 = df00\n",
    "for antes, nuevo in zip(df00.columns, nuevosNombres):\n",
    "    df01 = df01.withColumnRenamed(antes, nuevo)\n"
   ]
  },
  {
   "cell_type": "markdown",
   "metadata": {
    "application/vnd.databricks.v1+cell": {
     "cellMetadata": {},
     "inputWidgets": {},
     "nuid": "de47577f-3579-4bb2-a598-f83b20585efd",
     "showTitle": false,
     "tableResultSettingsMap": {},
     "title": ""
    }
   },
   "source": [
    "#####2. Verifirificar el esquema del DataFrame"
   ]
  },
  {
   "cell_type": "code",
   "execution_count": 0,
   "metadata": {
    "application/vnd.databricks.v1+cell": {
     "cellMetadata": {
      "byteLimit": 2048000,
      "rowLimit": 10000
     },
     "inputWidgets": {},
     "nuid": "159ebc51-5f08-4bc6-baee-736551167ca2",
     "showTitle": false,
     "tableResultSettingsMap": {},
     "title": ""
    }
   },
   "outputs": [
    {
     "output_type": "stream",
     "name": "stdout",
     "output_type": "stream",
     "text": [
      "root\n |-- id: string (nullable = true)\n |-- genero: string (nullable = true)\n |-- edad: string (nullable = true)\n |-- hipertension: string (nullable = true)\n |-- enfCardiaca: string (nullable = true)\n |-- EdoCivil: string (nullable = true)\n |-- trabajo: string (nullable = true)\n |-- Residencia: string (nullable = true)\n |-- Niveldeglucosaprom: string (nullable = true)\n |-- IMC: string (nullable = true)\n |-- Fumador: string (nullable = true)\n |-- Paro Cardiaco: string (nullable = true)\n\n"
     ]
    }
   ],
   "source": [
    "df01.printSchema()"
   ]
  },
  {
   "cell_type": "markdown",
   "metadata": {
    "application/vnd.databricks.v1+cell": {
     "cellMetadata": {
      "byteLimit": 2048000,
      "rowLimit": 10000
     },
     "inputWidgets": {},
     "nuid": "912d130a-412f-47a7-8714-2cae62550aa7",
     "showTitle": false,
     "tableResultSettingsMap": {},
     "title": ""
    }
   },
   "source": [
    "#####3. En relación a la coherencia de los datos , se procede a : \n",
    "\n",
    "   - El tipo de datos \"IMC\" , se pasa a tipo de dato \"DOUBLE\"\n",
    "\n",
    "   - El tipo de dato \" edad\", se pasa a tipo de dato \" INTERGER\""
   ]
  },
  {
   "cell_type": "code",
   "execution_count": 0,
   "metadata": {
    "application/vnd.databricks.v1+cell": {
     "cellMetadata": {
      "byteLimit": 2048000,
      "rowLimit": 10000
     },
     "inputWidgets": {},
     "nuid": "b761c2b8-61dd-4bc9-b3e6-e8f3abc39fb8",
     "showTitle": false,
     "tableResultSettingsMap": {},
     "title": ""
    }
   },
   "outputs": [
    {
     "output_type": "stream",
     "name": "stdout",
     "output_type": "stream",
     "text": [
      "root\n |-- id: string (nullable = true)\n |-- genero: string (nullable = true)\n |-- edad: integer (nullable = true)\n |-- hipertension: string (nullable = true)\n |-- enfCardiaca: string (nullable = true)\n |-- EdoCivil: string (nullable = true)\n |-- trabajo: string (nullable = true)\n |-- Residencia: string (nullable = true)\n |-- Niveldeglucosaprom: string (nullable = true)\n |-- IMC: double (nullable = true)\n |-- Fumador: string (nullable = true)\n |-- Paro Cardiaco: string (nullable = true)\n\n"
     ]
    }
   ],
   "source": [
    "df01 = df01.withColumn(\"edad\", df01.edad.cast(\"int\"))\n",
    "df01 = df01.withColumn(\"IMC\", df01.IMC.cast(\"double\"))\n",
    "\n",
    "df01.printSchema()"
   ]
  },
  {
   "cell_type": "code",
   "execution_count": 0,
   "metadata": {
    "application/vnd.databricks.v1+cell": {
     "cellMetadata": {
      "byteLimit": 2048000,
      "rowLimit": 10000
     },
     "inputWidgets": {},
     "nuid": "eae7bb21-fca4-437c-af8f-b8e9293fbfa8",
     "showTitle": false,
     "tableResultSettingsMap": {},
     "title": ""
    }
   },
   "outputs": [
    {
     "output_type": "stream",
     "name": "stdout",
     "output_type": "stream",
     "text": [
      "+-----+------+----+------------+-------------+------------+-------------+--------------+------------------+----+---------------+-------------+\n|   id|genero|edad|hipertension|  enfCardiaca|    EdoCivil|      trabajo|    Residencia|Niveldeglucosaprom| IMC|        Fumador|Paro Cardiaco|\n+-----+------+----+------------+-------------+------------+-------------+--------------+------------------+----+---------------+-------------+\n|   id|gender|NULL|hypertension|heart_disease|ever_married|    work_type|Residence_type| avg_glucose_level|NULL| smoking_status|       stroke|\n| 9046|  Male|  67|           0|            1|         Yes|      Private|         Urban|            228.69|36.6|formerly smoked|            1|\n|51676|Female|  61|           0|            0|         Yes|Self-employed|         Rural|            202.21|NULL|   never smoked|            1|\n|31112|  Male|  80|           0|            1|         Yes|      Private|         Rural|            105.92|32.5|   never smoked|            1|\n|60182|Female|  49|           0|            0|         Yes|      Private|         Urban|            171.23|34.4|         smokes|            1|\n| 1665|Female|  79|           1|            0|         Yes|Self-employed|         Rural|            174.12|24.0|   never smoked|            1|\n|56669|  Male|  81|           0|            0|         Yes|      Private|         Urban|            186.21|29.0|formerly smoked|            1|\n|53882|  Male|  74|           1|            1|         Yes|      Private|         Rural|             70.09|27.4|   never smoked|            1|\n|10434|Female|  69|           0|            0|          No|      Private|         Urban|             94.39|22.8|   never smoked|            1|\n|27419|Female|  59|           0|            0|         Yes|      Private|         Rural|             76.15|NULL|        Unknown|            1|\n+-----+------+----+------------+-------------+------------+-------------+--------------+------------------+----+---------------+-------------+\nonly showing top 10 rows\n\n"
     ]
    }
   ],
   "source": [
    "#MostrarDatos\n",
    "df01.show(10)"
   ]
  },
  {
   "cell_type": "markdown",
   "metadata": {
    "application/vnd.databricks.v1+cell": {
     "cellMetadata": {},
     "inputWidgets": {},
     "nuid": "4445bda6-d6d4-411f-83c0-c779b9e2658d",
     "showTitle": false,
     "tableResultSettingsMap": {},
     "title": ""
    }
   },
   "source": [
    "#####4. Exploración de categorias"
   ]
  },
  {
   "cell_type": "code",
   "execution_count": 0,
   "metadata": {
    "application/vnd.databricks.v1+cell": {
     "cellMetadata": {
      "byteLimit": 2048000,
      "rowLimit": 10000
     },
     "inputWidgets": {},
     "nuid": "1d142dbd-156d-4b3a-8d6c-529a36cbaaa6",
     "showTitle": false,
     "tableResultSettingsMap": {},
     "title": ""
    }
   },
   "outputs": [
    {
     "output_type": "stream",
     "name": "stdout",
     "output_type": "stream",
     "text": [
      "+------+-----+\n|genero|count|\n+------+-----+\n|Female| 2994|\n| Other|    1|\n|gender|    1|\n|  Male| 2115|\n+------+-----+\n\n"
     ]
    }
   ],
   "source": [
    "#Obtener cantidad total de registros\n",
    "df01.groupby(['genero']).count().show()"
   ]
  },
  {
   "cell_type": "code",
   "execution_count": 0,
   "metadata": {
    "application/vnd.databricks.v1+cell": {
     "cellMetadata": {
      "byteLimit": 2048000,
      "rowLimit": 10000
     },
     "inputWidgets": {},
     "nuid": "8a5240ec-e210-40ff-971b-ae77e2e0f1b8",
     "showTitle": false,
     "tableResultSettingsMap": {},
     "title": ""
    }
   },
   "outputs": [
    {
     "output_type": "stream",
     "name": "stdout",
     "output_type": "stream",
     "text": [
      "+------------+-----+\n|hipertension|count|\n+------------+-----+\n|           0| 4612|\n|           1|  498|\n|hypertension|    1|\n+------------+-----+\n\n"
     ]
    }
   ],
   "source": [
    "df01.groupby(['hipertension']).count().show()"
   ]
  },
  {
   "cell_type": "code",
   "execution_count": 0,
   "metadata": {
    "application/vnd.databricks.v1+cell": {
     "cellMetadata": {
      "byteLimit": 2048000,
      "rowLimit": 10000
     },
     "inputWidgets": {},
     "nuid": "08bd3895-8c66-42a8-a8c9-90ca7b5adb04",
     "showTitle": false,
     "tableResultSettingsMap": {},
     "title": ""
    }
   },
   "outputs": [
    {
     "output_type": "stream",
     "name": "stdout",
     "output_type": "stream",
     "text": [
      "+-------------+-----+\n|  enfCardiaca|count|\n+-------------+-----+\n|            0| 4834|\n|heart_disease|    1|\n|            1|  276|\n+-------------+-----+\n\n"
     ]
    }
   ],
   "source": [
    "df01.groupby(['enfCardiaca']).count().show()"
   ]
  },
  {
   "cell_type": "code",
   "execution_count": 0,
   "metadata": {
    "application/vnd.databricks.v1+cell": {
     "cellMetadata": {
      "byteLimit": 2048000,
      "rowLimit": 10000
     },
     "inputWidgets": {},
     "nuid": "4614a2b3-a2d1-45fb-894c-548b7d9a46f3",
     "showTitle": false,
     "tableResultSettingsMap": {},
     "title": ""
    }
   },
   "outputs": [
    {
     "output_type": "stream",
     "name": "stdout",
     "output_type": "stream",
     "text": [
      "+------------+-----+\n|    EdoCivil|count|\n+------------+-----+\n|ever_married|    1|\n|          No| 1757|\n|         Yes| 3353|\n+------------+-----+\n\n"
     ]
    }
   ],
   "source": [
    "df01.groupby(['EdoCivil']).count().show()"
   ]
  },
  {
   "cell_type": "code",
   "execution_count": 0,
   "metadata": {
    "application/vnd.databricks.v1+cell": {
     "cellMetadata": {
      "byteLimit": 2048000,
      "rowLimit": 10000
     },
     "inputWidgets": {},
     "nuid": "4429bab5-b1c3-419b-ac53-134ae01c6171",
     "showTitle": false,
     "tableResultSettingsMap": {},
     "title": ""
    }
   },
   "outputs": [
    {
     "output_type": "stream",
     "name": "stdout",
     "output_type": "stream",
     "text": [
      "+-------------+-----+\n|      trabajo|count|\n+-------------+-----+\n|    work_type|    1|\n| Never_worked|   22|\n|Self-employed|  819|\n|      Private| 2925|\n|     children|  687|\n|     Govt_job|  657|\n+-------------+-----+\n\n"
     ]
    }
   ],
   "source": [
    "df01.groupby(['trabajo']).count().show()"
   ]
  },
  {
   "cell_type": "code",
   "execution_count": 0,
   "metadata": {
    "application/vnd.databricks.v1+cell": {
     "cellMetadata": {
      "byteLimit": 2048000,
      "rowLimit": 10000
     },
     "inputWidgets": {},
     "nuid": "32f9c330-385c-486b-801e-a29e9be75248",
     "showTitle": false,
     "tableResultSettingsMap": {},
     "title": ""
    }
   },
   "outputs": [
    {
     "output_type": "stream",
     "name": "stdout",
     "output_type": "stream",
     "text": [
      "+--------------+-----+\n|    Residencia|count|\n+--------------+-----+\n|         Urban| 2596|\n|Residence_type|    1|\n|         Rural| 2514|\n+--------------+-----+\n\n"
     ]
    }
   ],
   "source": [
    "df01.groupby(['Residencia']).count().show()"
   ]
  },
  {
   "cell_type": "code",
   "execution_count": 0,
   "metadata": {
    "application/vnd.databricks.v1+cell": {
     "cellMetadata": {
      "byteLimit": 2048000,
      "rowLimit": 10000
     },
     "inputWidgets": {},
     "nuid": "0971e3ac-8c4d-4cb8-97c3-ba7397195edd",
     "showTitle": false,
     "tableResultSettingsMap": {},
     "title": ""
    }
   },
   "outputs": [
    {
     "output_type": "stream",
     "name": "stdout",
     "output_type": "stream",
     "text": [
      "+---------------+-----+\n|        Fumador|count|\n+---------------+-----+\n| smoking_status|    1|\n|         smokes|  789|\n|        Unknown| 1544|\n|   never smoked| 1892|\n|formerly smoked|  885|\n+---------------+-----+\n\n"
     ]
    }
   ],
   "source": [
    "df01.groupby(['Fumador']).count().show()"
   ]
  },
  {
   "cell_type": "code",
   "execution_count": 0,
   "metadata": {
    "application/vnd.databricks.v1+cell": {
     "cellMetadata": {
      "byteLimit": 2048000,
      "rowLimit": 10000
     },
     "inputWidgets": {},
     "nuid": "113414f4-71a2-414e-aa8a-9cfac63b3f65",
     "showTitle": false,
     "tableResultSettingsMap": {},
     "title": ""
    }
   },
   "outputs": [
    {
     "output_type": "stream",
     "name": "stdout",
     "output_type": "stream",
     "text": [
      "+-------------+-----+\n|Paro Cardiaco|count|\n+-------------+-----+\n|            0| 4861|\n|            1|  249|\n|       stroke|    1|\n+-------------+-----+\n\n"
     ]
    }
   ],
   "source": [
    "df01.groupby(['Paro Cardiaco']).count().show()"
   ]
  },
  {
   "cell_type": "code",
   "execution_count": 0,
   "metadata": {
    "application/vnd.databricks.v1+cell": {
     "cellMetadata": {
      "byteLimit": 2048000,
      "rowLimit": 10000
     },
     "inputWidgets": {},
     "nuid": "f44ce92e-a004-473e-aee1-cb4d2efb00fa",
     "showTitle": false,
     "tableResultSettingsMap": {},
     "title": ""
    }
   },
   "outputs": [
    {
     "output_type": "stream",
     "name": "stdout",
     "output_type": "stream",
     "text": [
      "+------+-----+\n|genero|count|\n+------+-----+\n|Female| 2994|\n|gender|    1|\n|  Male| 2115|\n+------+-----+\n\n"
     ]
    }
   ],
   "source": [
    "#Se descarta el registro cuyo valor en género es \"Other\"\n",
    "df02 = df01.where(\"genero <> 'Other'\")\n",
    "\n",
    "#Se verifica que ya no esta \"Other\"\n",
    "df02.groupby(['genero']).count().show()"
   ]
  },
  {
   "cell_type": "markdown",
   "metadata": {
    "application/vnd.databricks.v1+cell": {
     "cellMetadata": {},
     "inputWidgets": {},
     "nuid": "aa10ed7e-099b-45f4-85b4-35e9db9d7290",
     "showTitle": false,
     "tableResultSettingsMap": {},
     "title": ""
    }
   },
   "source": [
    "#####5. Identificar Nulos"
   ]
  },
  {
   "cell_type": "code",
   "execution_count": 0,
   "metadata": {
    "application/vnd.databricks.v1+cell": {
     "cellMetadata": {
      "byteLimit": 2048000,
      "rowLimit": 10000
     },
     "inputWidgets": {},
     "nuid": "2e928392-f4ad-4a65-9b06-dc6d563e3094",
     "showTitle": false,
     "tableResultSettingsMap": {},
     "title": ""
    }
   },
   "outputs": [
    {
     "output_type": "stream",
     "name": "stdout",
     "output_type": "stream",
     "text": [
      "+---+------+----+------------+-----------+--------+-------+----------+------------------+---+-------+-------------+\n| id|genero|edad|hipertension|enfCardiaca|EdoCivil|trabajo|Residencia|Niveldeglucosaprom|IMC|Fumador|Paro Cardiaco|\n+---+------+----+------------+-----------+--------+-------+----------+------------------+---+-------+-------------+\n|  0|     0|   1|           0|          0|       0|      0|         0|                 0|202|      0|            0|\n+---+------+----+------------+-----------+--------+-------+----------+------------------+---+-------+-------------+\n\n"
     ]
    }
   ],
   "source": [
    "df01.select([count(when(isnan(c) | col(c).isNull(), c)).alias(c) for c in df01.columns]).show()"
   ]
  },
  {
   "cell_type": "markdown",
   "metadata": {
    "application/vnd.databricks.v1+cell": {
     "cellMetadata": {
      "byteLimit": 2048000,
      "rowLimit": 10000
     },
     "inputWidgets": {},
     "nuid": "99ac5221-7ef6-4e82-a3dd-3f5ecaf205c7",
     "showTitle": false,
     "tableResultSettingsMap": {},
     "title": ""
    }
   },
   "source": [
    "Se puede observar que la columna IMC presenta datos Nulos o Imposibles. A pesar que el porcentaje de datos nulos es muy bajo, se requiere crear una estrategia para mutar o cambiar los datos, sin que sean eliminados.\n",
    "- Se requiere hacer estaratos de promedios cada 10 años\n",
    "- Los promedios por estratos se catalogan por género\n",
    "- Se sustituye por el promedio de los nulos según género/estrato_edad"
   ]
  },
  {
   "cell_type": "code",
   "execution_count": 0,
   "metadata": {
    "application/vnd.databricks.v1+cell": {
     "cellMetadata": {
      "byteLimit": 2048000,
      "rowLimit": 10000
     },
     "inputWidgets": {},
     "nuid": "86e63e9f-204f-48cf-8e5c-a04b3638c99a",
     "showTitle": false,
     "tableResultSettingsMap": {},
     "title": ""
    }
   },
   "outputs": [
    {
     "output_type": "stream",
     "name": "stdout",
     "output_type": "stream",
     "text": [
      "[Row(avg(IMC)=18.687962962962963)]\n"
     ]
    }
   ],
   "source": [
    "####### Se extrae promedio IMC por Estrato y Female\n",
    "avg10F = df02.where((col('genero')== lit('Female')) & (col('edad')<10)).select(mean(col('IMC'))).collect()\n",
    "avg20F = df02.where((col('genero')== lit('Female')) & (col('edad')>10) & (col('edad')<20)).select(mean(col('edad'))).collect()\n",
    "avg30F = df02.where((col('genero')== lit('Female')) & (col('edad')>20) & (col('edad')<30)).select(mean(col('edad'))).collect()\n",
    "avg40F = df02.where((col('genero')== lit('Female')) & (col('edad')>30) & (col('edad')<40)).select(mean(col('edad'))).collect()\n",
    "avg50F = df02.where((col('genero')== lit('Female')) & (col('edad')>40) & (col('edad')<50)).select(mean(col('edad'))).collect()\n",
    "avg60F = df02.where((col('genero')== lit('Female')) & (col('edad')>50) & (col('edad')<60)).select(mean(col('edad'))).collect()\n",
    "avg70F = df02.where((col('genero')== lit('Female')) & (col('edad')>60) & (col('edad')<70)).select(mean(col('edad'))).collect()\n",
    "avg80F = df02.where((col('genero')== lit('Female')) & (col('edad')>70) & (col('edad')<80)).select(mean(col('edad'))).collect()\n",
    "avg90F = df02.where((col('genero')== lit('Female')) & (col('edad')>80) & (col('edad')<90)).select(mean(col('edad'))).collect()\n",
    "\n",
    "print(avg10F)"
   ]
  },
  {
   "cell_type": "code",
   "execution_count": 0,
   "metadata": {
    "application/vnd.databricks.v1+cell": {
     "cellMetadata": {
      "byteLimit": 2048000,
      "rowLimit": 10000
     },
     "inputWidgets": {},
     "nuid": "b5bcd141-07dd-4ea9-8bc3-73aa546f7110",
     "showTitle": false,
     "tableResultSettingsMap": {},
     "title": ""
    }
   },
   "outputs": [],
   "source": [
    "df03 = df02.withColumn(\"IMC\", when((df02['genero'] == 'Female') & (df02['IMC'].isNull()) & (df02['edad'] < 10), avg10F[0][0]).otherwise(df02['IMC']))\n",
    "df03 = df02.withColumn(\"IMC\", when((df02['genero'] == 'Female') & (df02['IMC'].isNull()) & (df02['edad'] < 20), avg20F[0][0]).otherwise(df02['IMC']))\n",
    "df03 = df02.withColumn(\"IMC\", when((df02['genero'] == 'Female') & (df02['IMC'].isNull()) & (df02['edad'] < 30), avg30F[0][0]).otherwise(df02['IMC']))\n",
    "df03 = df02.withColumn(\"IMC\", when((df02['genero'] == 'Female') & (df02['IMC'].isNull()) & (df02['edad'] < 40), avg40F[0][0]).otherwise(df02['IMC']))\n",
    "df03 = df02.withColumn(\"IMC\", when((df02['genero'] == 'Female') & (df02['IMC'].isNull()) & (df02['edad'] < 50), avg50F[0][0]).otherwise(df02['IMC']))\n",
    "df03 = df02.withColumn(\"IMC\", when((df02['genero'] == 'Female') & (df02['IMC'].isNull()) & (df02['edad'] < 60), avg60F[0][0]).otherwise(df02['IMC']))\n",
    "df03 = df02.withColumn(\"IMC\", when((df02['genero'] == 'Female') & (df02['IMC'].isNull()) & (df02['edad'] < 70), avg70F[0][0]).otherwise(df02['IMC']))\n",
    "df03 = df02.withColumn(\"IMC\", when((df02['genero'] == 'Female') & (df02['IMC'].isNull()) & (df02['edad'] < 80), avg80F[0][0]).otherwise(df02['IMC']))\n",
    "df03 = df02.withColumn(\"IMC\", when((df02['genero'] == 'Female') & (df02['IMC'].isNull()) & (df02['edad'] < 90), avg90F[0][0]).otherwise(df02['IMC']))\n",
    "\n"
   ]
  },
  {
   "cell_type": "code",
   "execution_count": 0,
   "metadata": {
    "application/vnd.databricks.v1+cell": {
     "cellMetadata": {
      "byteLimit": 2048000,
      "rowLimit": 10000
     },
     "inputWidgets": {},
     "nuid": "c930f604-01c2-4a75-bdd7-d90a29119d2d",
     "showTitle": false,
     "tableResultSettingsMap": {},
     "title": ""
    }
   },
   "outputs": [
    {
     "output_type": "stream",
     "name": "stdout",
     "output_type": "stream",
     "text": [
      "+---+------+----+------------+-----------+--------+-------+----------+------------------+---+-------+-------------+\n| id|genero|edad|hipertension|enfCardiaca|EdoCivil|trabajo|Residencia|Niveldeglucosaprom|IMC|Fumador|Paro Cardiaco|\n+---+------+----+------------+-----------+--------+-------+----------+------------------+---+-------+-------------+\n|  0|     0|   1|           0|          0|       0|      0|         0|                 0|105|      0|            0|\n+---+------+----+------------+-----------+--------+-------+----------+------------------+---+-------+-------------+\n\n"
     ]
    }
   ],
   "source": [
    "df03.select([count(when(isnan(c) | col(c).isNull(), c)).alias(c) for c in df03.columns]).show()"
   ]
  },
  {
   "cell_type": "code",
   "execution_count": 0,
   "metadata": {
    "application/vnd.databricks.v1+cell": {
     "cellMetadata": {
      "byteLimit": 2048000,
      "rowLimit": 10000
     },
     "inputWidgets": {},
     "nuid": "d336cdbd-7166-45d2-add7-95e2ee10490a",
     "showTitle": false,
     "tableResultSettingsMap": {},
     "title": ""
    }
   },
   "outputs": [
    {
     "output_type": "stream",
     "name": "stdout",
     "output_type": "stream",
     "text": [
      "[Row(avg(IMC)=19.03168724279836)]\n"
     ]
    }
   ],
   "source": [
    "####### Se extrae promedio IMC por Estrato y Male\n",
    "avg10M = df02.where((col('genero')== lit('Male')) & (col('edad')<10)).select(mean(col('IMC'))).collect()\n",
    "avg20M = df02.where((col('genero')== lit('Male')) & (col('edad')>10) & (col('edad')<20)).select(mean(col('edad'))).collect()\n",
    "avg30M = df02.where((col('genero')== lit('Male')) & (col('edad')>20) & (col('edad')<30)).select(mean(col('edad'))).collect()\n",
    "avg40M = df02.where((col('genero')== lit('Male')) & (col('edad')>30) & (col('edad')<40)).select(mean(col('edad'))).collect()\n",
    "avg50M = df02.where((col('genero')== lit('Male')) & (col('edad')>40) & (col('edad')<50)).select(mean(col('edad'))).collect()\n",
    "avg60M = df02.where((col('genero')== lit('Male')) & (col('edad')>50) & (col('edad')<60)).select(mean(col('edad'))).collect()\n",
    "avg70M = df02.where((col('genero')== lit('Male')) & (col('edad')>60) & (col('edad')<70)).select(mean(col('edad'))).collect()\n",
    "avg80M = df02.where((col('genero')== lit('Male')) & (col('edad')>70) & (col('edad')<80)).select(mean(col('edad'))).collect()\n",
    "avg90M = df02.where((col('genero')== lit('Male')) & (col('edad')>80) & (col('edad')<90)).select(mean(col('edad'))).collect()\n",
    "\n",
    "print(avg10M)"
   ]
  },
  {
   "cell_type": "code",
   "execution_count": 0,
   "metadata": {
    "application/vnd.databricks.v1+cell": {
     "cellMetadata": {
      "byteLimit": 2048000,
      "rowLimit": 10000
     },
     "inputWidgets": {},
     "nuid": "1fa9f83d-7be2-4fe5-b7a4-fc32618a0b44",
     "showTitle": false,
     "tableResultSettingsMap": {},
     "title": ""
    }
   },
   "outputs": [],
   "source": [
    "df04 = df02.withColumn(\"IMC\", when((df02['genero'] == 'Male') & (df02['IMC'].isNull()) & (df02['edad'] < 10), avg10M[0][0]).otherwise(df02['IMC']))\n",
    "df04 = df02.withColumn(\"IMC\", when((df02['genero'] == 'Male') & (df02['IMC'].isNull()) & (df02['edad'] < 20), avg20M[0][0]).otherwise(df02['IMC']))\n",
    "df04 = df02.withColumn(\"IMC\", when((df02['genero'] == 'Male') & (df02['IMC'].isNull()) & (df02['edad'] < 30), avg30M[0][0]).otherwise(df02['IMC']))\n",
    "df04 = df02.withColumn(\"IMC\", when((df02['genero'] == 'Male') & (df02['IMC'].isNull()) & (df02['edad'] < 40), avg40M[0][0]).otherwise(df02['IMC']))\n",
    "df04 = df02.withColumn(\"IMC\", when((df02['genero'] == 'Male') & (df02['IMC'].isNull()) & (df02['edad'] < 50), avg50M[0][0]).otherwise(df02['IMC']))\n",
    "df04 = df02.withColumn(\"IMC\", when((df02['genero'] == 'Male') & (df02['IMC'].isNull()) & (df02['edad'] < 60), avg60M[0][0]).otherwise(df02['IMC']))\n",
    "df04 = df02.withColumn(\"IMC\", when((df02['genero'] == 'Male') & (df02['IMC'].isNull()) & (df02['edad'] < 70), avg70M[0][0]).otherwise(df02['IMC']))\n",
    "df04 = df02.withColumn(\"IMC\", when((df02['genero'] == 'Male') & (df02['IMC'].isNull()) & (df02['edad'] < 80), avg80M[0][0]).otherwise(df02['IMC']))\n",
    "df04 = df02.withColumn(\"IMC\", when((df02['genero'] == 'Male') & (df02['IMC'].isNull()) & (df02['edad'] < 90), avg90M[0][0]).otherwise(df02['IMC']))"
   ]
  },
  {
   "cell_type": "code",
   "execution_count": 0,
   "metadata": {
    "application/vnd.databricks.v1+cell": {
     "cellMetadata": {
      "byteLimit": 2048000,
      "rowLimit": 10000
     },
     "inputWidgets": {},
     "nuid": "f4bf2018-efd5-4166-b261-75d2a2b9eaa8",
     "showTitle": false,
     "tableResultSettingsMap": {},
     "title": ""
    }
   },
   "outputs": [
    {
     "output_type": "stream",
     "name": "stdout",
     "output_type": "stream",
     "text": [
      "+---+------+----+------------+-----------+--------+-------+----------+------------------+---+-------+-------------+\n| id|genero|edad|hipertension|enfCardiaca|EdoCivil|trabajo|Residencia|Niveldeglucosaprom|IMC|Fumador|Paro Cardiaco|\n+---+------+----+------------+-----------+--------+-------+----------+------------------+---+-------+-------------+\n|  0|     0|   1|           0|          0|       0|      0|         0|                 0| 98|      0|            0|\n+---+------+----+------------+-----------+--------+-------+----------+------------------+---+-------+-------------+\n\n"
     ]
    }
   ],
   "source": [
    "df04.select([count(when(isnan(c) | col(c).isNull(), c)).alias(c) for c in df04.columns]).show()"
   ]
  },
  {
   "cell_type": "markdown",
   "metadata": {
    "application/vnd.databricks.v1+cell": {
     "cellMetadata": {},
     "inputWidgets": {},
     "nuid": "31ed7ffe-ceaa-4892-8b82-e7aa2a6d936f",
     "showTitle": false,
     "tableResultSettingsMap": {},
     "title": ""
    }
   },
   "source": [
    "#####6. Función Para calcular promedio de IMC"
   ]
  },
  {
   "cell_type": "code",
   "execution_count": 0,
   "metadata": {
    "application/vnd.databricks.v1+cell": {
     "cellMetadata": {
      "byteLimit": 2048000,
      "rowLimit": 10000
     },
     "inputWidgets": {},
     "nuid": "a216e1b5-e2b7-4d94-a148-9ca31febe702",
     "showTitle": false,
     "tableResultSettingsMap": {},
     "title": ""
    }
   },
   "outputs": [
    {
     "output_type": "stream",
     "name": "stdout",
     "output_type": "stream",
     "text": [
      "Para el genero Female en el Rango de Edad 0-10: Promedio IMC = 18.784186046511625\nPara el genero Female en el Rango de Edad 10-20: Promedio IMC = 25.516000000000012\nPara el genero Female en el Rango de Edad 20-30: Promedio IMC = 28.640163934426226\nPara el genero Female en el Rango de Edad 30-40: Promedio IMC = 31.16508313539193\nPara el genero Female en el Rango de Edad 40-50: Promedio IMC = 30.94269662921346\nPara el genero Female en el Rango de Edad 50-60: Promedio IMC = 31.923094170403576\nPara el genero Female en el Rango de Edad 60-70: Promedio IMC = 30.717080745341597\nPara el genero Female en el Rango de Edad 70-80: Promedio IMC = 29.233229813664597\nPara el genero Female en el Rango de Edad 80-90: Promedio IMC = 28.101428571428578\n"
     ]
    }
   ],
   "source": [
    "#Calcular promedio de IMC a partir de las edades y el género\n",
    "def avg_imc_by_gender_and_age_range(df, gender, age_ranges):\n",
    "    results = []\n",
    "    \n",
    "    for lower, upper in age_ranges:\n",
    "        avg_imc = df.where(\n",
    "            (df[\"genero\"] == lit(gender)) & \n",
    "            (df[\"edad\"] > lower) & \n",
    "            (df[\"edad\"] <= upper)\n",
    "        ).select(mean(\"IMC\")).collect()\n",
    "        \n",
    "        results.append({\n",
    "            \"age_range\": f\"{lower}-{upper}\",\n",
    "            \"avg_imc\": avg_imc[0][0] if avg_imc else None\n",
    "        })\n",
    "    \n",
    "    return results\n",
    "\n",
    "age_ranges = [(0, 10), (10, 20), (20, 30), (30, 40), (40, 50), (50, 60), (60, 70), (70, 80), (80, 90)]\n",
    "gender = \"Female\"\n",
    "\n",
    "# Llamada a la función\n",
    "avg_imc_results = avg_imc_by_gender_and_age_range(df02, gender, age_ranges)\n",
    "\n",
    "# Mostrar resultados\n",
    "for result in avg_imc_results:\n",
    "    print(f\"Para el genero {gender} en el Rango de Edad {result['age_range']}: Promedio IMC = {result['avg_imc']}\")"
   ]
  },
  {
   "cell_type": "markdown",
   "metadata": {
    "application/vnd.databricks.v1+cell": {
     "cellMetadata": {},
     "inputWidgets": {},
     "nuid": "5add62a9-a763-4492-a8ed-77b177d44365",
     "showTitle": false,
     "tableResultSettingsMap": {},
     "title": ""
    }
   },
   "source": [
    "#####7. Gráfica"
   ]
  },
  {
   "cell_type": "code",
   "execution_count": 0,
   "metadata": {
    "application/vnd.databricks.v1+cell": {
     "cellMetadata": {
      "byteLimit": 2048000,
      "rowLimit": 10000
     },
     "inputWidgets": {},
     "nuid": "18c43b40-1bba-4cdd-a0c1-d03e6b254608",
     "showTitle": false,
     "tableResultSettingsMap": {},
     "title": ""
    }
   },
   "outputs": [
    {
     "output_type": "display_data",
     "data": {
      "image/png": "[encoded data removed]",
      "text/plain": [
       "<Figure size 640x480 with 1 Axes>"
      ]
     },
     "metadata": {},
     "output_type": "display_data"
    }
   ],
   "source": [
    "import pandas as pd\n",
    "import matplotlib.pyplot as plt\n",
    "from pyspark.sql import SparkSession\n",
    "\n",
    "\n",
    "try:\n",
    "    df01\n",
    "except NameError:\n",
    "    data = {\"edad\": [25, 30, 35, 25, 40, 30, 30, 25, 35, 40, 40, 25]}\n",
    "    df01 = pd.DataFrame(data)\n",
    "\n",
    "if isinstance(df01, pd.DataFrame):\n",
    "    df_grouped = df01.groupby(\"edad\").size().reset_index(name=\"cantidad\")\n",
    "    edades = df_grouped[\"edad\"]\n",
    "    cantidades = df_grouped[\"cantidad\"]\n",
    "\n",
    "elif \"pyspark.sql.dataframe.DataFrame\" in str(type(df01)):\n",
    "    df_grouped = df01.groupBy(\"edad\").count().orderBy(\"edad\")\n",
    "    df_pandas = df_grouped.toPandas()  # Convertir a Pandas\n",
    "    edades = df_pandas[\"edad\"]\n",
    "    cantidades = df_pandas[\"count\"]\n",
    "\n",
    "else:\n",
    "    raise TypeError(\"df01 no es un DataFrame válido de Pandas o PySpark\")\n",
    "\n",
    "plt.bar(edades, cantidades)\n",
    "plt.ylabel(\"Cantidad\")\n",
    "plt.xlabel(\"Edad\")\n",
    "plt.title(\"Histograma Por Edades\")\n",
    "plt.legend([\"Edad\"], loc=\"upper right\")\n",
    "\n",
    "plt.show()"
   ]
  },
  {
   "cell_type": "code",
   "execution_count": 0,
   "metadata": {
    "application/vnd.databricks.v1+cell": {
     "cellMetadata": {
      "byteLimit": 2048000,
      "rowLimit": 10000
     },
     "inputWidgets": {},
     "nuid": "42d63854-d5b5-4975-98f9-8a16f43b8c66",
     "showTitle": false,
     "tableResultSettingsMap": {},
     "title": ""
    }
   },
   "outputs": [
    {
     "output_type": "display_data",
     "data": {
      "image/png": "[encoded data removed]",
      "text/plain": [
       "<Figure size 640x480 with 1 Axes>"
      ]
     },
     "metadata": {},
     "output_type": "display_data"
    }
   ],
   "source": [
    "#Gráfica de género\n",
    "\n",
    "# Filtrar los datos para eliminar el valor 'gender' y mantener solo 'Female' y 'Male'\n",
    "df_filtered = df04.filter((col('genero') == 'Female') | (col('genero') == 'Male'))\n",
    "\n",
    "# Obtener el conteo por grupo en la columna 'genero'\n",
    "genero_count = df_filtered.groupby('genero').count().select('genero', 'count')\n",
    "\n",
    "# Convertir a RDD y luego a lista para trabajar con ella\n",
    "genero_count_list = genero_count.rdd.map(lambda x: (x[0], x[1])).collect()\n",
    "\n",
    "# Separa las categorías y los conteos\n",
    "categorias = ['Mujeres', 'Hombres']  \n",
    "cantidad = [x[1] for x in genero_count_list]  \n",
    "# Crear la gráfica de barras\n",
    "grafica = plt.bar(categorias, cantidad)\n",
    "\n",
    "grafica[0].set_color('r')  # Colorea la barra para 'Mujeres' en rojo\n",
    "grafica[1].set_color('b')  # Colorea la barra para 'Hombres' en azul\n",
    "plt.ylabel('Cantidad')\n",
    "plt.xlabel('Género')\n",
    "plt.title('Gráfico de Barras por Género')\n",
    "plt.show()\n"
   ]
  },
  {
   "cell_type": "code",
   "execution_count": 0,
   "metadata": {
    "application/vnd.databricks.v1+cell": {
     "cellMetadata": {
      "byteLimit": 2048000,
      "rowLimit": 10000
     },
     "inputWidgets": {},
     "nuid": "3900fe2c-cc8e-49a0-8103-f2e90dfbf90e",
     "showTitle": false,
     "tableResultSettingsMap": {},
     "title": ""
    }
   },
   "outputs": [
    {
     "output_type": "display_data",
     "data": {
      "image/png": "[encoded data removed]",
      "text/plain": [
       "<Figure size 640x480 with 1 Axes>"
      ]
     },
     "metadata": {},
     "output_type": "display_data"
    }
   ],
   "source": [
    "#Gráficas de enfermedades gacrdiacas\n",
    "\n",
    "enfCardiaca = df04.groupBy('Paro Cardiaco').count().select('Paro Cardiaco', 'count')\n",
    "# Filtrar los datos para eliminar el valor 'Stroke' y mantener solo '0' y '1'\n",
    "enfCardiaca_filtered = enfCardiaca.filter((col('Paro Cardiaco') == 0) | (col('Paro Cardiaco') == 1))\n",
    "# Convertir a RDD y luego a una lista\n",
    "enfCardiaca_filtered = enfCardiaca_filtered.rdd.map(lambda x: (x[0], x[1])).collect()\n",
    "# Separa los valores de las categorías y los conteos\n",
    "categorias = ['No', 'Si']  # 'No' es 0 y 'Si' es 1\n",
    "cantidad = [x[1] for x in enfCardiaca_filtered]\n",
    "grafica = plt.bar(categorias, cantidad)\n",
    "grafica[0].set_color('r')  # Colorea la barra para 'No' (0) en rojo\n",
    "grafica[1].set_color('b')  # Colorea la barra para 'Si' (1) en azul\n",
    "# Etiquetas y formato\n",
    "plt.ylabel('Cantidad')\n",
    "plt.xlabel('Enfermedad Cardiaca')\n",
    "plt.title('Gráfico de Barras por Enfermedad Cardiaca')\n",
    "plt.show()"
   ]
  }
 ],
 "metadata": {
  "application/vnd.databricks.v1+notebook": {
   "computePreferences": null,
   "dashboards": [],
   "environmentMetadata": {
    "base_environment": "",
    "client": "1"
   },
   "language": "python",
   "notebookMetadata": {
    "pythonIndentUnit": 4
   },
   "notebookName": "Velasquez _ 03_ 02",
   "widgets": {}
  }
 },
 "nbformat": 4,
 "nbformat_minor": 0
}
