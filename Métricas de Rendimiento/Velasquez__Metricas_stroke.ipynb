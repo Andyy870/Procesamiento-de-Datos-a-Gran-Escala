{
  "cells": [
    {
      "cell_type": "markdown",
      "metadata": {
        "application/vnd.databricks.v1+cell": {
          "cellMetadata": {
            "byteLimit": 2048000,
            "rowLimit": 10000
          },
          "inputWidgets": {},
          "nuid": "5b6ad6cb-7563-4bbe-9a43-23d2f6fe1cd6",
          "showTitle": false,
          "tableResultSettingsMap": {},
          "title": ""
        },
        "id": "0UpEFnKtq5Pk"
      },
      "source": [
        "![LOGO_PUJ.png](https://epilab.co/wp-content/uploads/2019/02/Epigenetica-Y-Cancer-Javeriana-2.png)\n",
        "----------------------------------------------------------------\n",
        "\n",
        "**Fechas**: 03/02/2025, 10/02/2025, 17/02/2025, 19/05/2025\n",
        "\n",
        "**Autor**: Paula Andrea Velasquez Romero\n",
        "\n",
        "**Materia:** Procesamiento de datos a gran escala\n",
        "\n",
        "**Tópico:** Introducción a Pyspark en el Ambiente Databricks, y continuación con preparación, entrenamiento y evaluacíon con métricas de un  modelo de predección.\n",
        "\n",
        "----------------------------------------------------------------"
      ]
    },
    {
      "cell_type": "code",
      "execution_count": 1,
      "metadata": {
        "application/vnd.databricks.v1+cell": {
          "cellMetadata": {
            "byteLimit": 2048000,
            "rowLimit": 10000
          },
          "inputWidgets": {},
          "nuid": "9464bb0a-f174-4fb8-8c0e-cadb02bc5b69",
          "showTitle": false,
          "tableResultSettingsMap": {},
          "title": ""
        },
        "id": "FZPJYooGq5Pm"
      },
      "outputs": [],
      "source": [
        "import numpy as up\n",
        "import matplotlib.pyplot as plt\n",
        "import seaborn as sns\n",
        "\n",
        "from pyspark.sql import SQLContext\n",
        "from pyspark.sql.types import *\n",
        "from pyspark.sql.functions import mean , col, split, count , when , lit , isnan, col, lit, when\n",
        "\n",
        "from pyspark.sql import SparkSession\n",
        "spark = SparkSession.builder.appName(\"MySparkApp\").getOrCreate()"
      ]
    },
    {
      "cell_type": "code",
      "execution_count": 2,
      "metadata": {
        "application/vnd.databricks.v1+cell": {
          "cellMetadata": {
            "byteLimit": 2048000,
            "rowLimit": 10000
          },
          "inputWidgets": {},
          "nuid": "1a84ad16-d386-4809-8953-10853b7fedd9",
          "showTitle": false,
          "tableResultSettingsMap": {},
          "title": ""
        },
        "colab": {
          "base_uri": "https://localhost:8080/",
          "height": 219
        },
        "id": "eWbRspvdq5Pn",
        "outputId": "d7bb65fd-3068-4bd6-f434-5fcdf63ac778"
      },
      "outputs": [
        {
          "output_type": "execute_result",
          "data": {
            "text/plain": [
              "<pyspark.sql.session.SparkSession at 0x789e26280fd0>"
            ],
            "text/html": [
              "\n",
              "            <div>\n",
              "                <p><b>SparkSession - in-memory</b></p>\n",
              "                \n",
              "        <div>\n",
              "            <p><b>SparkContext</b></p>\n",
              "\n",
              "            <p><a href=\"http://b631e3f41e0e:4040\">Spark UI</a></p>\n",
              "\n",
              "            <dl>\n",
              "              <dt>Version</dt>\n",
              "                <dd><code>v3.5.1</code></dd>\n",
              "              <dt>Master</dt>\n",
              "                <dd><code>local[*]</code></dd>\n",
              "              <dt>AppName</dt>\n",
              "                <dd><code>MySparkApp</code></dd>\n",
              "            </dl>\n",
              "        </div>\n",
              "        \n",
              "            </div>\n",
              "        "
            ]
          },
          "metadata": {},
          "execution_count": 2
        }
      ],
      "source": [
        "#Descripción del entorno\n",
        "spark"
      ]
    },
    {
      "cell_type": "code",
      "execution_count": 4,
      "metadata": {
        "application/vnd.databricks.v1+cell": {
          "cellMetadata": {
            "byteLimit": 2048000,
            "rowLimit": 10000
          },
          "inputWidgets": {},
          "nuid": "2a24f089-cd52-447b-bfbd-dff26de7d421",
          "showTitle": false,
          "tableResultSettingsMap": {},
          "title": ""
        },
        "colab": {
          "base_uri": "https://localhost:8080/"
        },
        "id": "KLv4u7Qiq5Po",
        "outputId": "b07a0e85-a395-4ada-dcc4-98ab75e59fd0"
      },
      "outputs": [
        {
          "output_type": "execute_result",
          "data": {
            "text/plain": [
              "['id',\n",
              " 'gender',\n",
              " 'age',\n",
              " 'hypertension',\n",
              " 'heart_disease',\n",
              " 'ever_married',\n",
              " 'work_type',\n",
              " 'Residence_type',\n",
              " 'avg_glucose_level',\n",
              " 'bmi',\n",
              " 'smoking_status',\n",
              " 'stroke']"
            ]
          },
          "metadata": {},
          "execution_count": 4
        }
      ],
      "source": [
        "#Cargar los Datos\n",
        "df00 = spark.read.csv(\"/content/stroke_pyspark.csv\", header=True, inferSchema=True)\n",
        "df00.columns"
      ]
    },
    {
      "cell_type": "markdown",
      "metadata": {
        "application/vnd.databricks.v1+cell": {
          "cellMetadata": {
            "byteLimit": 2048000,
            "rowLimit": 10000
          },
          "inputWidgets": {},
          "nuid": "2166dbcc-8d25-4052-8406-df0f2ba720a9",
          "showTitle": false,
          "tableResultSettingsMap": {},
          "title": ""
        },
        "id": "59GpUIwoq5Po"
      },
      "source": [
        "#####1. Se cambian los nombres de las columnas\n"
      ]
    },
    {
      "cell_type": "code",
      "execution_count": 5,
      "metadata": {
        "application/vnd.databricks.v1+cell": {
          "cellMetadata": {
            "byteLimit": 2048000,
            "rowLimit": 10000
          },
          "inputWidgets": {},
          "nuid": "51f9c6ac-bdfc-4c6a-9fe7-4144ad9c7bd6",
          "showTitle": false,
          "tableResultSettingsMap": {},
          "title": ""
        },
        "id": "rJeh-aZDq5Po"
      },
      "outputs": [],
      "source": [
        "# Lista que contiene los nuevos nombres para las columnas del DataFrame\n",
        "nuevosNombres = ['id',\n",
        " 'genero',\n",
        " 'edad',\n",
        " 'hipertension',\n",
        " 'enfCardiaca',\n",
        " 'EdoCivil',\n",
        " 'trabajo',\n",
        " 'Residencia',\n",
        " 'Niveldeglucosaprom',\n",
        " 'IMC',\n",
        " 'Fumador',\n",
        " 'ACV']\n",
        "\n",
        "df01 = df00\n",
        "# Bucle para renombrar cada columnas\n",
        "for antes, nuevo in zip(df00.columns, nuevosNombres):\n",
        "    df01 = df01.withColumnRenamed(antes, nuevo)\n"
      ]
    },
    {
      "cell_type": "markdown",
      "metadata": {
        "application/vnd.databricks.v1+cell": {
          "cellMetadata": {},
          "inputWidgets": {},
          "nuid": "de47577f-3579-4bb2-a598-f83b20585efd",
          "showTitle": false,
          "tableResultSettingsMap": {},
          "title": ""
        },
        "id": "zwwXnOf-q5Po"
      },
      "source": [
        "#####2. Verifirificar el esquema del DataFrame"
      ]
    },
    {
      "cell_type": "code",
      "execution_count": 6,
      "metadata": {
        "application/vnd.databricks.v1+cell": {
          "cellMetadata": {
            "byteLimit": 2048000,
            "rowLimit": 10000
          },
          "inputWidgets": {},
          "nuid": "159ebc51-5f08-4bc6-baee-736551167ca2",
          "showTitle": false,
          "tableResultSettingsMap": {},
          "title": ""
        },
        "id": "1Q2flus7q5Po",
        "outputId": "1a3c19e6-b40d-43be-903a-e23e513a014c",
        "colab": {
          "base_uri": "https://localhost:8080/"
        }
      },
      "outputs": [
        {
          "output_type": "stream",
          "name": "stdout",
          "text": [
            "root\n",
            " |-- id: integer (nullable = true)\n",
            " |-- genero: string (nullable = true)\n",
            " |-- edad: double (nullable = true)\n",
            " |-- hipertension: integer (nullable = true)\n",
            " |-- enfCardiaca: integer (nullable = true)\n",
            " |-- EdoCivil: string (nullable = true)\n",
            " |-- trabajo: string (nullable = true)\n",
            " |-- Residencia: string (nullable = true)\n",
            " |-- Niveldeglucosaprom: double (nullable = true)\n",
            " |-- IMC: string (nullable = true)\n",
            " |-- Fumador: string (nullable = true)\n",
            " |-- ACV: integer (nullable = true)\n",
            "\n"
          ]
        }
      ],
      "source": [
        "#Mostrar la estructura de Dataframe\n",
        "df01.printSchema()"
      ]
    },
    {
      "cell_type": "markdown",
      "metadata": {
        "application/vnd.databricks.v1+cell": {
          "cellMetadata": {
            "byteLimit": 2048000,
            "rowLimit": 10000
          },
          "inputWidgets": {},
          "nuid": "912d130a-412f-47a7-8714-2cae62550aa7",
          "showTitle": false,
          "tableResultSettingsMap": {},
          "title": ""
        },
        "id": "-_Ic_HnMq5Pp"
      },
      "source": [
        "#####3. En relación a la coherencia de los datos , se procede a :\n",
        "\n",
        "   - El tipo de datos \"IMC\" , se pasa a tipo de dato \"DOUBLE\"\n",
        "\n",
        "   - El tipo de dato \" edad\", se pasa a tipo de dato \" INTERGER\""
      ]
    },
    {
      "cell_type": "code",
      "execution_count": 7,
      "metadata": {
        "application/vnd.databricks.v1+cell": {
          "cellMetadata": {
            "byteLimit": 2048000,
            "rowLimit": 10000
          },
          "inputWidgets": {},
          "nuid": "b761c2b8-61dd-4bc9-b3e6-e8f3abc39fb8",
          "showTitle": false,
          "tableResultSettingsMap": {},
          "title": ""
        },
        "id": "EMSy4hpBq5Pp",
        "outputId": "3cc843c8-8cc3-47ce-f5c1-12aaa4fab4de",
        "colab": {
          "base_uri": "https://localhost:8080/"
        }
      },
      "outputs": [
        {
          "output_type": "stream",
          "name": "stdout",
          "text": [
            "root\n",
            " |-- id: integer (nullable = true)\n",
            " |-- genero: string (nullable = true)\n",
            " |-- edad: integer (nullable = true)\n",
            " |-- hipertension: integer (nullable = true)\n",
            " |-- enfCardiaca: integer (nullable = true)\n",
            " |-- EdoCivil: string (nullable = true)\n",
            " |-- trabajo: string (nullable = true)\n",
            " |-- Residencia: string (nullable = true)\n",
            " |-- Niveldeglucosaprom: double (nullable = true)\n",
            " |-- IMC: double (nullable = true)\n",
            " |-- Fumador: string (nullable = true)\n",
            " |-- ACV: integer (nullable = true)\n",
            "\n"
          ]
        }
      ],
      "source": [
        "# Convierte la columna 'edad' a tipo entero (int)\n",
        "df01 = df01.withColumn(\"edad\", df01.edad.cast(\"int\"))\n",
        "# Convierte la columna 'IMC' a tipo double (float)\n",
        "df01 = df01.withColumn(\"IMC\", df01.IMC.cast(\"double\"))\n",
        "\n",
        "df01.printSchema()"
      ]
    },
    {
      "cell_type": "code",
      "execution_count": 8,
      "metadata": {
        "application/vnd.databricks.v1+cell": {
          "cellMetadata": {
            "byteLimit": 2048000,
            "rowLimit": 10000
          },
          "inputWidgets": {},
          "nuid": "eae7bb21-fca4-437c-af8f-b8e9293fbfa8",
          "showTitle": false,
          "tableResultSettingsMap": {},
          "title": ""
        },
        "id": "R8ON-7Noq5Pp",
        "outputId": "faf072b1-b80e-47fc-a669-34d9cde1b078",
        "colab": {
          "base_uri": "https://localhost:8080/"
        }
      },
      "outputs": [
        {
          "output_type": "stream",
          "name": "stdout",
          "text": [
            "+-----+------+----+------------+-----------+--------+-------------+----------+------------------+----+---------------+---+\n",
            "|   id|genero|edad|hipertension|enfCardiaca|EdoCivil|      trabajo|Residencia|Niveldeglucosaprom| IMC|        Fumador|ACV|\n",
            "+-----+------+----+------------+-----------+--------+-------------+----------+------------------+----+---------------+---+\n",
            "| 9046|  Male|  67|           0|          1|     Yes|      Private|     Urban|            228.69|36.6|formerly smoked|  1|\n",
            "|51676|Female|  61|           0|          0|     Yes|Self-employed|     Rural|            202.21|NULL|   never smoked|  1|\n",
            "|31112|  Male|  80|           0|          1|     Yes|      Private|     Rural|            105.92|32.5|   never smoked|  1|\n",
            "|60182|Female|  49|           0|          0|     Yes|      Private|     Urban|            171.23|34.4|         smokes|  1|\n",
            "| 1665|Female|  79|           1|          0|     Yes|Self-employed|     Rural|            174.12|24.0|   never smoked|  1|\n",
            "|56669|  Male|  81|           0|          0|     Yes|      Private|     Urban|            186.21|29.0|formerly smoked|  1|\n",
            "|53882|  Male|  74|           1|          1|     Yes|      Private|     Rural|             70.09|27.4|   never smoked|  1|\n",
            "|10434|Female|  69|           0|          0|      No|      Private|     Urban|             94.39|22.8|   never smoked|  1|\n",
            "|27419|Female|  59|           0|          0|     Yes|      Private|     Rural|             76.15|NULL|        Unknown|  1|\n",
            "|60491|Female|  78|           0|          0|     Yes|      Private|     Urban|             58.57|24.2|        Unknown|  1|\n",
            "+-----+------+----+------------+-----------+--------+-------------+----------+------------------+----+---------------+---+\n",
            "only showing top 10 rows\n",
            "\n"
          ]
        }
      ],
      "source": [
        "#MostrarDatos\n",
        "df01.show(10)"
      ]
    },
    {
      "cell_type": "markdown",
      "metadata": {
        "application/vnd.databricks.v1+cell": {
          "cellMetadata": {},
          "inputWidgets": {},
          "nuid": "4445bda6-d6d4-411f-83c0-c779b9e2658d",
          "showTitle": false,
          "tableResultSettingsMap": {},
          "title": ""
        },
        "id": "ffOlCeOZq5Pp"
      },
      "source": [
        "#####4. Exploración de categorias"
      ]
    },
    {
      "cell_type": "code",
      "execution_count": 9,
      "metadata": {
        "application/vnd.databricks.v1+cell": {
          "cellMetadata": {
            "byteLimit": 2048000,
            "rowLimit": 10000
          },
          "inputWidgets": {},
          "nuid": "1d142dbd-156d-4b3a-8d6c-529a36cbaaa6",
          "showTitle": false,
          "tableResultSettingsMap": {},
          "title": ""
        },
        "id": "gvsMrP9Fq5Pp",
        "outputId": "450318ed-210a-480f-ffc7-8cdc4db80f11",
        "colab": {
          "base_uri": "https://localhost:8080/"
        }
      },
      "outputs": [
        {
          "output_type": "stream",
          "name": "stdout",
          "text": [
            "+------+-----+\n",
            "|genero|count|\n",
            "+------+-----+\n",
            "|Female| 2994|\n",
            "| Other|    1|\n",
            "|  Male| 2115|\n",
            "+------+-----+\n",
            "\n"
          ]
        }
      ],
      "source": [
        "#Obtener cantidad total de registros\n",
        "df01.groupby(['genero']).count().show()"
      ]
    },
    {
      "cell_type": "code",
      "execution_count": 10,
      "metadata": {
        "application/vnd.databricks.v1+cell": {
          "cellMetadata": {
            "byteLimit": 2048000,
            "rowLimit": 10000
          },
          "inputWidgets": {},
          "nuid": "8a5240ec-e210-40ff-971b-ae77e2e0f1b8",
          "showTitle": false,
          "tableResultSettingsMap": {},
          "title": ""
        },
        "id": "0KfCuzsbq5Pq",
        "outputId": "dedf2946-7c6b-459b-a3ca-46aaab49464a",
        "colab": {
          "base_uri": "https://localhost:8080/"
        }
      },
      "outputs": [
        {
          "output_type": "stream",
          "name": "stdout",
          "text": [
            "+------------+-----+\n",
            "|hipertension|count|\n",
            "+------------+-----+\n",
            "|           1|  498|\n",
            "|           0| 4612|\n",
            "+------------+-----+\n",
            "\n"
          ]
        }
      ],
      "source": [
        "#Cantidad de registros en cada valor posible para hipertension\n",
        "df01.groupby(['hipertension']).count().show()"
      ]
    },
    {
      "cell_type": "code",
      "execution_count": 13,
      "metadata": {
        "application/vnd.databricks.v1+cell": {
          "cellMetadata": {
            "byteLimit": 2048000,
            "rowLimit": 10000
          },
          "inputWidgets": {},
          "nuid": "08bd3895-8c66-42a8-a8c9-90ca7b5adb04",
          "showTitle": false,
          "tableResultSettingsMap": {},
          "title": ""
        },
        "id": "Jz4QuJ33q5Pq",
        "outputId": "f43ca192-7485-42df-de39-c055244a5f6a",
        "colab": {
          "base_uri": "https://localhost:8080/"
        }
      },
      "outputs": [
        {
          "output_type": "stream",
          "name": "stdout",
          "text": [
            "+-----------+-----+\n",
            "|enfCardiaca|count|\n",
            "+-----------+-----+\n",
            "|          1|  276|\n",
            "|          0| 4834|\n",
            "+-----------+-----+\n",
            "\n"
          ]
        }
      ],
      "source": [
        "#Cantidad de registros en cada valor posible para enfCardiaca\n",
        "df01.groupby(['enfCardiaca']).count().show()"
      ]
    },
    {
      "cell_type": "code",
      "execution_count": 12,
      "metadata": {
        "application/vnd.databricks.v1+cell": {
          "cellMetadata": {
            "byteLimit": 2048000,
            "rowLimit": 10000
          },
          "inputWidgets": {},
          "nuid": "4614a2b3-a2d1-45fb-894c-548b7d9a46f3",
          "showTitle": false,
          "tableResultSettingsMap": {},
          "title": ""
        },
        "id": "JmsO-0giq5Pq",
        "outputId": "1d797174-a224-4d04-ab3a-298ddac16175",
        "colab": {
          "base_uri": "https://localhost:8080/"
        }
      },
      "outputs": [
        {
          "output_type": "stream",
          "name": "stdout",
          "text": [
            "+--------+-----+\n",
            "|EdoCivil|count|\n",
            "+--------+-----+\n",
            "|      No| 1757|\n",
            "|     Yes| 3353|\n",
            "+--------+-----+\n",
            "\n"
          ]
        }
      ],
      "source": [
        "#Cantidad de registros en cada valor posible para EdoCivil\n",
        "df01.groupby(['EdoCivil']).count().show()"
      ]
    },
    {
      "cell_type": "code",
      "execution_count": 14,
      "metadata": {
        "application/vnd.databricks.v1+cell": {
          "cellMetadata": {
            "byteLimit": 2048000,
            "rowLimit": 10000
          },
          "inputWidgets": {},
          "nuid": "4429bab5-b1c3-419b-ac53-134ae01c6171",
          "showTitle": false,
          "tableResultSettingsMap": {},
          "title": ""
        },
        "id": "SOgB-eglq5Pq",
        "outputId": "7e9d5730-c638-4946-de98-317628cd9a26",
        "colab": {
          "base_uri": "https://localhost:8080/"
        }
      },
      "outputs": [
        {
          "output_type": "stream",
          "name": "stdout",
          "text": [
            "+-------------+-----+\n",
            "|      trabajo|count|\n",
            "+-------------+-----+\n",
            "| Never_worked|   22|\n",
            "|Self-employed|  819|\n",
            "|      Private| 2925|\n",
            "|     children|  687|\n",
            "|     Govt_job|  657|\n",
            "+-------------+-----+\n",
            "\n"
          ]
        }
      ],
      "source": [
        "#Cantidad de registros en cada valor posible para trabajo\n",
        "df01.groupby(['trabajo']).count().show()"
      ]
    },
    {
      "cell_type": "code",
      "execution_count": null,
      "metadata": {
        "application/vnd.databricks.v1+cell": {
          "cellMetadata": {
            "byteLimit": 2048000,
            "rowLimit": 10000
          },
          "inputWidgets": {},
          "nuid": "32f9c330-385c-486b-801e-a29e9be75248",
          "showTitle": false,
          "tableResultSettingsMap": {},
          "title": ""
        },
        "id": "GMQXzGyIq5Pr",
        "outputId": "2b8a7db4-2526-4353-f585-8b67bdbde84f",
        "colab": {
          "base_uri": "https://localhost:8080/"
        }
      },
      "outputs": [
        {
          "output_type": "stream",
          "name": "stdout",
          "text": [
            "+----------+-----+\n",
            "|Residencia|count|\n",
            "+----------+-----+\n",
            "|     Urban| 2596|\n",
            "|     Rural| 2514|\n",
            "+----------+-----+\n",
            "\n"
          ]
        }
      ],
      "source": [
        "#Cantidad de registros en cada valor posible para Residencia\n",
        "df01.groupby(['Residencia']).count().show()"
      ]
    },
    {
      "cell_type": "code",
      "execution_count": null,
      "metadata": {
        "application/vnd.databricks.v1+cell": {
          "cellMetadata": {
            "byteLimit": 2048000,
            "rowLimit": 10000
          },
          "inputWidgets": {},
          "nuid": "0971e3ac-8c4d-4cb8-97c3-ba7397195edd",
          "showTitle": false,
          "tableResultSettingsMap": {},
          "title": ""
        },
        "id": "BbsUBr9xq5Pr",
        "outputId": "3c07422a-b624-4010-b7bb-f4111f1992b0",
        "colab": {
          "base_uri": "https://localhost:8080/"
        }
      },
      "outputs": [
        {
          "output_type": "stream",
          "name": "stdout",
          "text": [
            "+---------------+-----+\n",
            "|        Fumador|count|\n",
            "+---------------+-----+\n",
            "|         smokes|  789|\n",
            "|        Unknown| 1544|\n",
            "|   never smoked| 1892|\n",
            "|formerly smoked|  885|\n",
            "+---------------+-----+\n",
            "\n"
          ]
        }
      ],
      "source": [
        "#Cantidad de registros en cada valor posible para Fumador\n",
        "df01.groupby(['Fumador']).count().show()"
      ]
    },
    {
      "cell_type": "code",
      "execution_count": null,
      "metadata": {
        "application/vnd.databricks.v1+cell": {
          "cellMetadata": {
            "byteLimit": 2048000,
            "rowLimit": 10000
          },
          "inputWidgets": {},
          "nuid": "113414f4-71a2-414e-aa8a-9cfac63b3f65",
          "showTitle": false,
          "tableResultSettingsMap": {},
          "title": ""
        },
        "id": "mGLDAAztq5Pr",
        "outputId": "944b803d-fe9a-4cd0-f47f-a1e5e6ae3508",
        "colab": {
          "base_uri": "https://localhost:8080/"
        }
      },
      "outputs": [
        {
          "output_type": "stream",
          "name": "stdout",
          "text": [
            "+---+-----+\n",
            "|ACV|count|\n",
            "+---+-----+\n",
            "|  1|  249|\n",
            "|  0| 4861|\n",
            "+---+-----+\n",
            "\n"
          ]
        }
      ],
      "source": [
        "#Cantidad de registros en cada valor posible para ACV\n",
        "df01.groupby(['ACV']).count().show()"
      ]
    },
    {
      "cell_type": "code",
      "execution_count": 15,
      "metadata": {
        "application/vnd.databricks.v1+cell": {
          "cellMetadata": {
            "byteLimit": 2048000,
            "rowLimit": 10000
          },
          "inputWidgets": {},
          "nuid": "f44ce92e-a004-473e-aee1-cb4d2efb00fa",
          "showTitle": false,
          "tableResultSettingsMap": {},
          "title": ""
        },
        "id": "RKuS0RrGq5Pr",
        "outputId": "50f21ab1-3a16-43cb-b16c-7041469d9802",
        "colab": {
          "base_uri": "https://localhost:8080/"
        }
      },
      "outputs": [
        {
          "output_type": "stream",
          "name": "stdout",
          "text": [
            "+------+-----+\n",
            "|genero|count|\n",
            "+------+-----+\n",
            "|Female| 2994|\n",
            "|  Male| 2115|\n",
            "+------+-----+\n",
            "\n"
          ]
        }
      ],
      "source": [
        "#Se descarta el registro cuyo valor en género es \"Other\"\n",
        "df02 = df01.where(\"genero <> 'Other'\")\n",
        "\n",
        "#Se verifica que ya no esta \"Other\"\n",
        "df02.groupby(['genero']).count().show()"
      ]
    },
    {
      "cell_type": "markdown",
      "metadata": {
        "application/vnd.databricks.v1+cell": {
          "cellMetadata": {},
          "inputWidgets": {},
          "nuid": "aa10ed7e-099b-45f4-85b4-35e9db9d7290",
          "showTitle": false,
          "tableResultSettingsMap": {},
          "title": ""
        },
        "id": "4AJDLOIvq5Pr"
      },
      "source": [
        "#####5. Identificar Nulos"
      ]
    },
    {
      "cell_type": "code",
      "execution_count": 16,
      "metadata": {
        "application/vnd.databricks.v1+cell": {
          "cellMetadata": {
            "byteLimit": 2048000,
            "rowLimit": 10000
          },
          "inputWidgets": {},
          "nuid": "2e928392-f4ad-4a65-9b06-dc6d563e3094",
          "showTitle": false,
          "tableResultSettingsMap": {},
          "title": ""
        },
        "id": "-2AUqXQpq5Ps",
        "outputId": "1f0eaa93-505e-4841-9e27-50f175c2ca28",
        "colab": {
          "base_uri": "https://localhost:8080/"
        }
      },
      "outputs": [
        {
          "output_type": "stream",
          "name": "stdout",
          "text": [
            "+---+------+----+------------+-----------+--------+-------+----------+------------------+---+-------+---+\n",
            "| id|genero|edad|hipertension|enfCardiaca|EdoCivil|trabajo|Residencia|Niveldeglucosaprom|IMC|Fumador|ACV|\n",
            "+---+------+----+------------+-----------+--------+-------+----------+------------------+---+-------+---+\n",
            "|  0|     0|   0|           0|          0|       0|      0|         0|                 0|201|      0|  0|\n",
            "+---+------+----+------------+-----------+--------+-------+----------+------------------+---+-------+---+\n",
            "\n"
          ]
        }
      ],
      "source": [
        "#Tabla de nulos o imposibles\n",
        "df01.select([count(when(isnan(c) | col(c).isNull(), c)).alias(c) for c in df01.columns]).show()"
      ]
    },
    {
      "cell_type": "markdown",
      "metadata": {
        "application/vnd.databricks.v1+cell": {
          "cellMetadata": {
            "byteLimit": 2048000,
            "rowLimit": 10000
          },
          "inputWidgets": {},
          "nuid": "99ac5221-7ef6-4e82-a3dd-3f5ecaf205c7",
          "showTitle": false,
          "tableResultSettingsMap": {},
          "title": ""
        },
        "id": "c1IfW6XWq5Ps"
      },
      "source": [
        "Se puede observar que la columna IMC presenta datos Nulos o Imposibles. A pesar que el porcentaje de datos nulos es muy bajo, se requiere crear una estrategia para mutar o cambiar los datos, sin que sean eliminados.\n",
        "- Se requiere hacer estaratos de promedios cada 10 años\n",
        "- Los promedios por estratos se catalogan por género\n",
        "- Se sustituye por el promedio de los nulos según género/estrato_edad"
      ]
    },
    {
      "cell_type": "code",
      "execution_count": 21,
      "metadata": {
        "application/vnd.databricks.v1+cell": {
          "cellMetadata": {
            "byteLimit": 2048000,
            "rowLimit": 10000
          },
          "inputWidgets": {},
          "nuid": "86e63e9f-204f-48cf-8e5c-a04b3638c99a",
          "showTitle": false,
          "tableResultSettingsMap": {},
          "title": ""
        },
        "id": "H9EN0jbGq5Ps",
        "outputId": "d07c582e-c4fe-4aff-f14b-d24e84127440",
        "colab": {
          "base_uri": "https://localhost:8080/"
        }
      },
      "outputs": [
        {
          "output_type": "stream",
          "name": "stdout",
          "text": [
            "[Row(avg(IMC)=18.687962962962963)]\n"
          ]
        }
      ],
      "source": [
        "# Se extrae promedio IMC por Estrato y Female\n",
        "avg10F = df02.where((col('genero')== lit('Female')) & (col('edad')<10)).select(mean(col('IMC'))).collect()\n",
        "avg20F = df02.where((col('genero')== lit('Female')) & (col('edad')>10) & (col('edad')<20)).select(mean(col('edad'))).collect()\n",
        "avg30F = df02.where((col('genero')== lit('Female')) & (col('edad')>20) & (col('edad')<30)).select(mean(col('edad'))).collect()\n",
        "avg40F = df02.where((col('genero')== lit('Female')) & (col('edad')>30) & (col('edad')<40)).select(mean(col('edad'))).collect()\n",
        "avg50F = df02.where((col('genero')== lit('Female')) & (col('edad')>40) & (col('edad')<50)).select(mean(col('edad'))).collect()\n",
        "avg60F = df02.where((col('genero')== lit('Female')) & (col('edad')>50) & (col('edad')<60)).select(mean(col('edad'))).collect()\n",
        "avg70F = df02.where((col('genero')== lit('Female')) & (col('edad')>60) & (col('edad')<70)).select(mean(col('edad'))).collect()\n",
        "avg80F = df02.where((col('genero')== lit('Female')) & (col('edad')>70) & (col('edad')<80)).select(mean(col('edad'))).collect()\n",
        "avg90F = df02.where((col('genero')== lit('Female')) & (col('edad')>80) & (col('edad')<90)).select(mean(col('edad'))).collect()\n",
        "\n",
        "print(avg10F)"
      ]
    },
    {
      "cell_type": "code",
      "execution_count": 22,
      "metadata": {
        "application/vnd.databricks.v1+cell": {
          "cellMetadata": {
            "byteLimit": 2048000,
            "rowLimit": 10000
          },
          "inputWidgets": {},
          "nuid": "b5bcd141-07dd-4ea9-8bc3-73aa546f7110",
          "showTitle": false,
          "tableResultSettingsMap": {},
          "title": ""
        },
        "id": "TVZVcInNq5Ps"
      },
      "outputs": [],
      "source": [
        "#Imputan valores faltantes en la columna IMC\n",
        "df03 = df02.withColumn(\"IMC\", when((df02['genero'] == 'Female') & (df02['IMC'].isNull()) & (df02['edad'] < 10), avg10F[0][0]).otherwise(df02['IMC']))\n",
        "df03 = df02.withColumn(\"IMC\", when((df02['genero'] == 'Female') & (df02['IMC'].isNull()) & (df02['edad'] < 20), avg20F[0][0]).otherwise(df02['IMC']))\n",
        "df03 = df02.withColumn(\"IMC\", when((df02['genero'] == 'Female') & (df02['IMC'].isNull()) & (df02['edad'] < 30), avg30F[0][0]).otherwise(df02['IMC']))\n",
        "df03 = df02.withColumn(\"IMC\", when((df02['genero'] == 'Female') & (df02['IMC'].isNull()) & (df02['edad'] < 40), avg40F[0][0]).otherwise(df02['IMC']))\n",
        "df03 = df02.withColumn(\"IMC\", when((df02['genero'] == 'Female') & (df02['IMC'].isNull()) & (df02['edad'] < 50), avg50F[0][0]).otherwise(df02['IMC']))\n",
        "df03 = df02.withColumn(\"IMC\", when((df02['genero'] == 'Female') & (df02['IMC'].isNull()) & (df02['edad'] < 60), avg60F[0][0]).otherwise(df02['IMC']))\n",
        "df03 = df02.withColumn(\"IMC\", when((df02['genero'] == 'Female') & (df02['IMC'].isNull()) & (df02['edad'] < 70), avg70F[0][0]).otherwise(df02['IMC']))\n",
        "df03 = df02.withColumn(\"IMC\", when((df02['genero'] == 'Female') & (df02['IMC'].isNull()) & (df02['edad'] < 80), avg80F[0][0]).otherwise(df02['IMC']))\n",
        "df03 = df02.withColumn(\"IMC\", when((df02['genero'] == 'Female') & (df02['IMC'].isNull()) & (df02['edad'] < 90), avg90F[0][0]).otherwise(df02['IMC']))"
      ]
    },
    {
      "cell_type": "code",
      "execution_count": 23,
      "metadata": {
        "application/vnd.databricks.v1+cell": {
          "cellMetadata": {
            "byteLimit": 2048000,
            "rowLimit": 10000
          },
          "inputWidgets": {},
          "nuid": "c930f604-01c2-4a75-bdd7-d90a29119d2d",
          "showTitle": false,
          "tableResultSettingsMap": {},
          "title": ""
        },
        "id": "sBRIbqFlq5Pt",
        "outputId": "fbd9c67b-84bd-474e-f043-125a973b4d82",
        "colab": {
          "base_uri": "https://localhost:8080/"
        }
      },
      "outputs": [
        {
          "output_type": "stream",
          "name": "stdout",
          "text": [
            "+---+------+----+------------+-----------+--------+-------+----------+------------------+---+-------+---+\n",
            "| id|genero|edad|hipertension|enfCardiaca|EdoCivil|trabajo|Residencia|Niveldeglucosaprom|IMC|Fumador|ACV|\n",
            "+---+------+----+------------+-----------+--------+-------+----------+------------------+---+-------+---+\n",
            "|  0|     0|   0|           0|          0|       0|      0|         0|                 0|104|      0|  0|\n",
            "+---+------+----+------------+-----------+--------+-------+----------+------------------+---+-------+---+\n",
            "\n"
          ]
        }
      ],
      "source": [
        "df03.select([count(when(isnan(c) | col(c).isNull(), c)).alias(c) for c in df03.columns]).show()"
      ]
    },
    {
      "cell_type": "code",
      "execution_count": 24,
      "metadata": {
        "application/vnd.databricks.v1+cell": {
          "cellMetadata": {
            "byteLimit": 2048000,
            "rowLimit": 10000
          },
          "inputWidgets": {},
          "nuid": "d336cdbd-7166-45d2-add7-95e2ee10490a",
          "showTitle": false,
          "tableResultSettingsMap": {},
          "title": ""
        },
        "id": "15XA7v26q5Pt",
        "outputId": "94ccd404-761f-410e-b105-182a2561e780",
        "colab": {
          "base_uri": "https://localhost:8080/"
        }
      },
      "outputs": [
        {
          "output_type": "stream",
          "name": "stdout",
          "text": [
            "[Row(avg(IMC)=19.03168724279836)]\n"
          ]
        }
      ],
      "source": [
        "#Se extrae promedio IMC por Estrato y Male\n",
        "avg10M = df02.where((col('genero')== lit('Male')) & (col('edad')<10)).select(mean(col('IMC'))).collect()\n",
        "avg20M = df02.where((col('genero')== lit('Male')) & (col('edad')>10) & (col('edad')<20)).select(mean(col('edad'))).collect()\n",
        "avg30M = df02.where((col('genero')== lit('Male')) & (col('edad')>20) & (col('edad')<30)).select(mean(col('edad'))).collect()\n",
        "avg40M = df02.where((col('genero')== lit('Male')) & (col('edad')>30) & (col('edad')<40)).select(mean(col('edad'))).collect()\n",
        "avg50M = df02.where((col('genero')== lit('Male')) & (col('edad')>40) & (col('edad')<50)).select(mean(col('edad'))).collect()\n",
        "avg60M = df02.where((col('genero')== lit('Male')) & (col('edad')>50) & (col('edad')<60)).select(mean(col('edad'))).collect()\n",
        "avg70M = df02.where((col('genero')== lit('Male')) & (col('edad')>60) & (col('edad')<70)).select(mean(col('edad'))).collect()\n",
        "avg80M = df02.where((col('genero')== lit('Male')) & (col('edad')>70) & (col('edad')<80)).select(mean(col('edad'))).collect()\n",
        "avg90M = df02.where((col('genero')== lit('Male')) & (col('edad')>80) & (col('edad')<90)).select(mean(col('edad'))).collect()\n",
        "\n",
        "print(avg10M)"
      ]
    },
    {
      "cell_type": "code",
      "execution_count": 25,
      "metadata": {
        "application/vnd.databricks.v1+cell": {
          "cellMetadata": {
            "byteLimit": 2048000,
            "rowLimit": 10000
          },
          "inputWidgets": {},
          "nuid": "1fa9f83d-7be2-4fe5-b7a4-fc32618a0b44",
          "showTitle": false,
          "tableResultSettingsMap": {},
          "title": ""
        },
        "id": "xYkhHmLjq5Pt"
      },
      "outputs": [],
      "source": [
        "#Imputar valores faltantes en la columna IMC\n",
        "df04 = df02.withColumn(\"IMC\", when((df02['genero'] == 'Male') & (df02['IMC'].isNull()) & (df02['edad'] < 10), avg10M[0][0]).otherwise(df02['IMC']))\n",
        "df04 = df02.withColumn(\"IMC\", when((df02['genero'] == 'Male') & (df02['IMC'].isNull()) & (df02['edad'] < 20), avg20M[0][0]).otherwise(df02['IMC']))\n",
        "df04 = df02.withColumn(\"IMC\", when((df02['genero'] == 'Male') & (df02['IMC'].isNull()) & (df02['edad'] < 30), avg30M[0][0]).otherwise(df02['IMC']))\n",
        "df04 = df02.withColumn(\"IMC\", when((df02['genero'] == 'Male') & (df02['IMC'].isNull()) & (df02['edad'] < 40), avg40M[0][0]).otherwise(df02['IMC']))\n",
        "df04 = df02.withColumn(\"IMC\", when((df02['genero'] == 'Male') & (df02['IMC'].isNull()) & (df02['edad'] < 50), avg50M[0][0]).otherwise(df02['IMC']))\n",
        "df04 = df02.withColumn(\"IMC\", when((df02['genero'] == 'Male') & (df02['IMC'].isNull()) & (df02['edad'] < 60), avg60M[0][0]).otherwise(df02['IMC']))\n",
        "df04 = df02.withColumn(\"IMC\", when((df02['genero'] == 'Male') & (df02['IMC'].isNull()) & (df02['edad'] < 70), avg70M[0][0]).otherwise(df02['IMC']))\n",
        "df04 = df02.withColumn(\"IMC\", when((df02['genero'] == 'Male') & (df02['IMC'].isNull()) & (df02['edad'] < 80), avg80M[0][0]).otherwise(df02['IMC']))\n",
        "df04 = df02.withColumn(\"IMC\", when((df02['genero'] == 'Male') & (df02['IMC'].isNull()) & (df02['edad'] < 90), avg90M[0][0]).otherwise(df02['IMC']))"
      ]
    },
    {
      "cell_type": "code",
      "execution_count": 26,
      "metadata": {
        "application/vnd.databricks.v1+cell": {
          "cellMetadata": {
            "byteLimit": 2048000,
            "rowLimit": 10000
          },
          "inputWidgets": {},
          "nuid": "f4bf2018-efd5-4166-b261-75d2a2b9eaa8",
          "showTitle": false,
          "tableResultSettingsMap": {},
          "title": ""
        },
        "id": "4vejmE9sq5Pt",
        "outputId": "0905a0c3-e96e-4cc6-f8db-dea830ad8fda",
        "colab": {
          "base_uri": "https://localhost:8080/"
        }
      },
      "outputs": [
        {
          "output_type": "stream",
          "name": "stdout",
          "text": [
            "+---+------+----+------------+-----------+--------+-------+----------+------------------+---+-------+---+\n",
            "| id|genero|edad|hipertension|enfCardiaca|EdoCivil|trabajo|Residencia|Niveldeglucosaprom|IMC|Fumador|ACV|\n",
            "+---+------+----+------------+-----------+--------+-------+----------+------------------+---+-------+---+\n",
            "|  0|     0|   0|           0|          0|       0|      0|         0|                 0| 97|      0|  0|\n",
            "+---+------+----+------------+-----------+--------+-------+----------+------------------+---+-------+---+\n",
            "\n"
          ]
        }
      ],
      "source": [
        "df04.select([count(when(isnan(c) | col(c).isNull(), c)).alias(c) for c in df04.columns]).show()"
      ]
    },
    {
      "cell_type": "markdown",
      "metadata": {
        "application/vnd.databricks.v1+cell": {
          "cellMetadata": {},
          "inputWidgets": {},
          "nuid": "31ed7ffe-ceaa-4892-8b82-e7aa2a6d936f",
          "showTitle": false,
          "tableResultSettingsMap": {},
          "title": ""
        },
        "id": "Q5tu1v9zq5Pt"
      },
      "source": [
        "#####6. Función Para calcular promedio de IMC"
      ]
    },
    {
      "cell_type": "code",
      "execution_count": 27,
      "metadata": {
        "application/vnd.databricks.v1+cell": {
          "cellMetadata": {
            "byteLimit": 2048000,
            "rowLimit": 10000
          },
          "inputWidgets": {},
          "nuid": "a216e1b5-e2b7-4d94-a148-9ca31febe702",
          "showTitle": false,
          "tableResultSettingsMap": {},
          "title": ""
        },
        "id": "tERoMST2q5Pu",
        "outputId": "8f1641b9-d425-46f1-e60b-4ce49f13b8bd",
        "colab": {
          "base_uri": "https://localhost:8080/"
        }
      },
      "outputs": [
        {
          "output_type": "stream",
          "name": "stdout",
          "text": [
            "Para el genero Female en el Rango de Edad 0-10: Promedio IMC = 18.784186046511625\n",
            "Para el genero Female en el Rango de Edad 10-20: Promedio IMC = 25.516000000000012\n",
            "Para el genero Female en el Rango de Edad 20-30: Promedio IMC = 28.640163934426226\n",
            "Para el genero Female en el Rango de Edad 30-40: Promedio IMC = 31.16508313539193\n",
            "Para el genero Female en el Rango de Edad 40-50: Promedio IMC = 30.94269662921346\n",
            "Para el genero Female en el Rango de Edad 50-60: Promedio IMC = 31.923094170403576\n",
            "Para el genero Female en el Rango de Edad 60-70: Promedio IMC = 30.717080745341597\n",
            "Para el genero Female en el Rango de Edad 70-80: Promedio IMC = 29.233229813664597\n",
            "Para el genero Female en el Rango de Edad 80-90: Promedio IMC = 28.101428571428578\n"
          ]
        }
      ],
      "source": [
        "#Calcular promedio de IMC a partir de las edades y el género\n",
        "def avg_imc_by_gender_and_age_range(df, gender, age_ranges):\n",
        "    results = []\n",
        "\n",
        "    for lower, upper in age_ranges:\n",
        "        avg_imc = df.where(\n",
        "            (df[\"genero\"] == lit(gender)) &\n",
        "            (df[\"edad\"] > lower) &\n",
        "            (df[\"edad\"] <= upper)\n",
        "        ).select(mean(\"IMC\")).collect()\n",
        "\n",
        "        results.append({\n",
        "            \"age_range\": f\"{lower}-{upper}\",\n",
        "            \"avg_imc\": avg_imc[0][0] if avg_imc else None\n",
        "        })\n",
        "\n",
        "    return results\n",
        "\n",
        "age_ranges = [(0, 10), (10, 20), (20, 30), (30, 40), (40, 50), (50, 60), (60, 70), (70, 80), (80, 90)]\n",
        "gender = \"Female\"\n",
        "\n",
        "# Llamada a la función\n",
        "avg_imc_results = avg_imc_by_gender_and_age_range(df02, gender, age_ranges)\n",
        "\n",
        "# Mostrar resultados\n",
        "for result in avg_imc_results:\n",
        "    print(f\"Para el genero {gender} en el Rango de Edad {result['age_range']}: Promedio IMC = {result['avg_imc']}\")"
      ]
    },
    {
      "cell_type": "markdown",
      "metadata": {
        "application/vnd.databricks.v1+cell": {
          "cellMetadata": {},
          "inputWidgets": {},
          "nuid": "5add62a9-a763-4492-a8ed-77b177d44365",
          "showTitle": false,
          "tableResultSettingsMap": {},
          "title": ""
        },
        "id": "pbqawV2Jq5Pu"
      },
      "source": [
        "#####7. Gráfica"
      ]
    },
    {
      "cell_type": "code",
      "execution_count": 28,
      "metadata": {
        "application/vnd.databricks.v1+cell": {
          "cellMetadata": {
            "byteLimit": 2048000,
            "rowLimit": 10000
          },
          "inputWidgets": {},
          "nuid": "18c43b40-1bba-4cdd-a0c1-d03e6b254608",
          "showTitle": false,
          "tableResultSettingsMap": {},
          "title": ""
        },
        "id": "5xtyGINzq5Pu",
        "outputId": "946516db-141f-4bae-a2a7-67e5caf6261b",
        "colab": {
          "base_uri": "https://localhost:8080/",
          "height": 472
        }
      },
      "outputs": [
        {
          "output_type": "display_data",
          "data": {
            "text/plain": [
              "<Figure size 640x480 with 1 Axes>"
            ],
            "image/png": "[encoded data removed]"
          },
          "metadata": {}
        }
      ],
      "source": [
        "import pandas as pd\n",
        "import matplotlib.pyplot as plt\n",
        "from pyspark.sql import SparkSession\n",
        "\n",
        "\n",
        "try:\n",
        "    df04\n",
        "except NameError:\n",
        "    # Bloque ejecutado si df04 no existe (NameError)\n",
        "    data = {\"edad\": [25, 30, 35, 25, 40, 30, 30, 25, 35, 40, 40, 25]}\n",
        "    df04 = pd.DataFrame(data)\n",
        "\n",
        "\n",
        "# Verificación del tipo de DataFrame y procesamiento adecuado\n",
        "if isinstance(df04, pd.DataFrame):\n",
        "    df_grouped = df04.groupby(\"edad\").size().reset_index(name=\"cantidad\")\n",
        "    edades = df_grouped[\"edad\"]\n",
        "    cantidades = df_grouped[\"cantidad\"]\n",
        "\n",
        "# Procesamiento para DataFrames de PySpark\n",
        "elif \"pyspark.sql.dataframe.DataFrame\" in str(type(df04)):\n",
        "    df_grouped = df04.groupBy(\"edad\").count().orderBy(\"edad\")\n",
        "    df_pandas = df_grouped.toPandas()  # Convertir a Pandas\n",
        "    edades = df_pandas[\"edad\"]\n",
        "    cantidades = df_pandas[\"count\"]\n",
        "\n",
        "else:\n",
        "  # Manejo de error para tipos no soportados\n",
        "    raise TypeError(\"df04 no es un DataFrame válido de Pandas o PySpark\")\n",
        "\n",
        "# Configuración y visualización del gráfico\n",
        "plt.bar(edades, cantidades)\n",
        "plt.ylabel(\"Cantidad\")\n",
        "plt.xlabel(\"Edad\")\n",
        "plt.title(\"Histograma Por Edades\")\n",
        "plt.legend([\"Edad\"], loc=\"upper right\")\n",
        "\n",
        "plt.show()"
      ]
    },
    {
      "cell_type": "markdown",
      "source": [
        "- Se observa una participación relativamente uniforme entre los diferentes grupos etarios, aunque se destacan ciertos picos en las edades cercanas a los 0, 40, 55 y 80 años, lo cual indica una mayor concentración de individuos en esos rangos. La mayoría de los datos se agrupan entre los 20 y 80 años, con una ligera mayor densidad en los grupos de edad media (40-60 años), que suelen estar más asociados a factores de riesgo de enfermedades como el derrame cerebral."
      ],
      "metadata": {
        "id": "5c0071BImw2F"
      }
    },
    {
      "cell_type": "code",
      "execution_count": 29,
      "metadata": {
        "application/vnd.databricks.v1+cell": {
          "cellMetadata": {
            "byteLimit": 2048000,
            "rowLimit": 10000
          },
          "inputWidgets": {},
          "nuid": "42d63854-d5b5-4975-98f9-8a16f43b8c66",
          "showTitle": false,
          "tableResultSettingsMap": {},
          "title": ""
        },
        "id": "Nrq_Luf7q5Pu",
        "outputId": "ebb69b72-4650-4ade-8910-8504649f1f96",
        "colab": {
          "base_uri": "https://localhost:8080/",
          "height": 472
        }
      },
      "outputs": [
        {
          "output_type": "display_data",
          "data": {
            "text/plain": [
              "<Figure size 640x480 with 1 Axes>"
            ],
            "image/png": "[encoded data removed]"
          },
          "metadata": {}
        }
      ],
      "source": [
        "#Gráfica de género\n",
        "\n",
        "# Filtrar los datos para eliminar el valor 'gender' y mantener solo 'Female' y 'Male'\n",
        "df_filtered = df04.filter((col('genero') == 'Female') | (col('genero') == 'Male'))\n",
        "\n",
        "# Obtener el conteo por grupo en la columna 'genero'\n",
        "genero_count = df_filtered.groupby('genero').count().select('genero', 'count')\n",
        "\n",
        "# Convertir a RDD y luego a lista para trabajar con ella\n",
        "genero_count_list = genero_count.rdd.map(lambda x: (x[0], x[1])).collect()\n",
        "\n",
        "# Separa las categorías y los conteos\n",
        "categorias = ['Mujeres', 'Hombres']\n",
        "cantidad = [x[1] for x in genero_count_list]\n",
        "# Crear la gráfica de barras\n",
        "grafica = plt.bar(categorias, cantidad)\n",
        "\n",
        "grafica[0].set_color('r')\n",
        "grafica[1].set_color('b')\n",
        "plt.ylabel('Cantidad')\n",
        "plt.xlabel('Género')\n",
        "plt.title('Gráfico de Barras por Género')\n",
        "plt.show()\n"
      ]
    },
    {
      "cell_type": "markdown",
      "source": [
        "- Se observa que hay una mayor cantidad de mujeres (representadas en color rojo) en comparación con los hombres (representados en azul), con aproximadamente 3000 mujeres frente a unos 2100 hombres. Esta diferencia indica que la muestra está compuesta en mayor proporción por mujeres."
      ],
      "metadata": {
        "id": "VKK4gLiInC0N"
      }
    },
    {
      "cell_type": "code",
      "execution_count": 70,
      "metadata": {
        "application/vnd.databricks.v1+cell": {
          "cellMetadata": {
            "byteLimit": 2048000,
            "rowLimit": 10000
          },
          "inputWidgets": {},
          "nuid": "3900fe2c-cc8e-49a0-8103-f2e90dfbf90e",
          "showTitle": false,
          "tableResultSettingsMap": {},
          "title": ""
        },
        "id": "punkZxBrq5Pv",
        "outputId": "d8df3862-36ee-4dd0-93db-822e79882505",
        "colab": {
          "base_uri": "https://localhost:8080/",
          "height": 472
        }
      },
      "outputs": [
        {
          "output_type": "display_data",
          "data": {
            "text/plain": [
              "<Figure size 640x480 with 1 Axes>"
            ],
            "image/png": "[encoded data removed]"
          },
          "metadata": {}
        }
      ],
      "source": [
        "#Gráficas de enfermedades cardiacas\n",
        "\n",
        "enfCardiaca = df04.groupBy('ACV').count().select('ACV', 'count')\n",
        "# Filtrar los datos para eliminar el valor 'Stroke' y mantener solo '0' y '1'\n",
        "enfCardiaca_filtered = enfCardiaca.filter((col('ACV') == 0) | (col('ACV') == 1))\n",
        "# Convertir a RDD y luego a una lista\n",
        "enfCardiaca_filtered = enfCardiaca_filtered.rdd.map(lambda x: (x[0], x[1])).collect()\n",
        "# Separa los valores de las categorías y los conteos\n",
        "categorias = ['SI', 'No']\n",
        "cantidad = [x[1] for x in enfCardiaca_filtered]\n",
        "grafica = plt.bar(categorias, cantidad)\n",
        "grafica[0].set_color('r')\n",
        "grafica[1].set_color('b')\n",
        "# Etiquetas y formato\n",
        "plt.ylabel('Cantidad')\n",
        "plt.xlabel('Sufre ACV')\n",
        "plt.title('Gráfico de Barras por ACV')\n",
        "plt.show()"
      ]
    },
    {
      "cell_type": "markdown",
      "source": [
        "- Se observa que la gran mayoría de los pacientes, representados con la barra azul bajo la categoría \"No\", no han sufrido un ACV, con una cantidad cercana a 4900 casos. En contraste, un número significativamente menor de pacientes, representado con la barra roja en la categoría \"Sí\", ha sufrido un ACV, con aproximadamente 250 casos. Esta marcada diferencia indica un fuerte desbalance en los datos, lo cual es un aspecto crucial a tener en cuenta en el análisis y desarrollo de modelos predictivos."
      ],
      "metadata": {
        "id": "uoc_ejXQnT0N"
      }
    },
    {
      "cell_type": "markdown",
      "source": [
        "# Modelado"
      ],
      "metadata": {
        "id": "xxF2kjup9qbA"
      }
    },
    {
      "cell_type": "code",
      "source": [
        "# Se importan las librerias para idexar, ensamblaje, Pipeline, modelo de clasificación y Métrias\n",
        "from pyspark.ml.feature import StringIndexer, VectorAssembler\n",
        "from pyspark.ml import Pipeline\n",
        "from pyspark.ml.classification import DecisionTreeClassifier\n",
        "from pyspark.ml.evaluation import MulticlassClassificationEvaluator, BinaryClassificationEvaluator"
      ],
      "metadata": {
        "id": "am6_nl8g9wMb"
      },
      "execution_count": 49,
      "outputs": []
    },
    {
      "cell_type": "markdown",
      "source": [
        "## Indexación y Pipeline"
      ],
      "metadata": {
        "id": "zw_Ijtkd-6Yi"
      }
    },
    {
      "cell_type": "code",
      "source": [
        "# Se indexan las variables categoricas\n",
        "categorical_cols = [\"genero\", \"EdoCivil\", \"trabajo\", \"Residencia\", \"Fumador\"]\n",
        "indexers = [StringIndexer(inputCol=col, outputCol=col+\"_idx\") for col in categorical_cols]\n",
        "\n",
        "# Se crea el pipeline\n",
        "pipeline = Pipeline(stages=indexers)\n",
        "df04_indexed = pipeline.fit(df04).transform(df04)\n",
        "\n",
        "# Se indexan las variables númericas + categoricas\n",
        "feature_cols = [\"edad\", \"hipertension\", \"enfCardiaca\", \"Niveldeglucosaprom\", \"IMC\"] + [col+\"_idx\" for col in categorical_cols]\n",
        "\n",
        "# Se ensablan las variables omitiendo nulls\n",
        "assembler = VectorAssembler(inputCols=feature_cols, outputCol=\"features\", handleInvalid='skip')\n",
        "df04_final = assembler.transform(df04_indexed)"
      ],
      "metadata": {
        "id": "p5uYHYEm-91m"
      },
      "execution_count": 50,
      "outputs": []
    },
    {
      "cell_type": "markdown",
      "source": [
        "## Modelo Modelo de clasificación (Árbol de Decisión)"
      ],
      "metadata": {
        "id": "N_PE6cMA_jCy"
      }
    },
    {
      "cell_type": "code",
      "source": [
        "# Separar datos de entrenamiento y prueba\n",
        "train, test = df04_final.randomSplit([0.8, 0.2], seed=13)\n",
        "\n",
        "# Modelo de clasificación (Árbol de Decisión)\n",
        "DTC = DecisionTreeClassifier(featuresCol=\"features\", labelCol=\"ACV\")\n",
        "modelo = DTC.fit(train)\n",
        "\n",
        "#Realizar predicciones\n",
        "predictions = modelo.transform(test)\n",
        "predictions.select(\"ACV\", \"prediction\", \"probability\").show(10)"
      ],
      "metadata": {
        "colab": {
          "base_uri": "https://localhost:8080/"
        },
        "id": "9xahSZH5-0E4",
        "outputId": "86df41e5-1973-456e-daae-b1a7103c0a68"
      },
      "execution_count": 51,
      "outputs": [
        {
          "output_type": "stream",
          "name": "stdout",
          "text": [
            "+---+----------+--------------------+\n",
            "|ACV|prediction|         probability|\n",
            "+---+----------+--------------------+\n",
            "|  0|       0.0|[0.95679567956795...|\n",
            "|  0|       0.0|[0.99797468354430...|\n",
            "|  0|       0.0|[0.95679567956795...|\n",
            "|  0|       0.0|[0.87081339712918...|\n",
            "|  0|       0.0|[0.95679567956795...|\n",
            "|  0|       0.0|[0.95679567956795...|\n",
            "|  0|       0.0|[0.95679567956795...|\n",
            "|  0|       0.0|[0.99797468354430...|\n",
            "|  0|       0.0|[0.87081339712918...|\n",
            "|  0|       0.0|[0.99797468354430...|\n",
            "+---+----------+--------------------+\n",
            "only showing top 10 rows\n",
            "\n"
          ]
        }
      ]
    },
    {
      "cell_type": "markdown",
      "source": [
        "## Métricas"
      ],
      "metadata": {
        "id": "70cIHemx_qia"
      }
    },
    {
      "cell_type": "markdown",
      "source": [
        "###Matriz de confusión:"
      ],
      "metadata": {
        "id": "_fWMZP5weONF"
      }
    },
    {
      "cell_type": "code",
      "source": [
        "## Obtener los datos de la matriz de confusión desde Spark\n",
        "conf_matrix_data = predictions.groupBy(\"ACV\", \"prediction\").count() \\\n",
        "    .groupBy(\"ACV\") \\\n",
        "    .pivot(\"prediction\", [0, 1]) \\\n",
        "    .sum(\"count\") \\\n",
        "    .na.fill(0) \\\n",
        "    .orderBy(\"ACV\")\n",
        "\n",
        "#Convertir a Pandas para visualización\n",
        "conf_matrix_pd = conf_matrix_data.toPandas()\n",
        "# Establecer el índice como los valores reales\n",
        "conf_matrix_pd.set_index('ACV', inplace=True)\n",
        "# Renombrar columnas para mejor legibilidad\n",
        "conf_matrix_pd.columns = ['Negativo (Pred)', 'Positivo (Pred)']\n",
        "conf_matrix_pd.index = ['Negativo (Real)', 'Positivo (Real)']\n",
        "\n",
        "custom_green = sns.light_palette(\"seagreen\", as_cmap=True)\n",
        "\n",
        "plt.figure(figsize=(8, 6))\n",
        "sns.heatmap(conf_matrix_pd,\n",
        "           annot=True,\n",
        "           fmt='d',\n",
        "           cmap=custom_green,\n",
        "           cbar_kws={'label': 'Número de casos'},\n",
        "           square=True)\n",
        "plt.title('Matriz de Confusión - Estilo Verde Profesional')\n",
        "plt.show()"
      ],
      "metadata": {
        "colab": {
          "base_uri": "https://localhost:8080/",
          "height": 545
        },
        "id": "m0WxTLuGeeMW",
        "outputId": "973140af-d148-4c82-c77e-a5e7844bec36"
      },
      "execution_count": 57,
      "outputs": [
        {
          "output_type": "display_data",
          "data": {
            "text/plain": [
              "<Figure size 800x600 with 2 Axes>"
            ],
            "image/png": "[encoded data removed]"
          },
          "metadata": {}
        }
      ]
    },
    {
      "cell_type": "code",
      "source": [
        "# Configurar el evaluador base\n",
        "evaluator = MulticlassClassificationEvaluator(labelCol=\"ACV\", predictionCol=\"prediction\")\n",
        "\n",
        "# Calcular todas las métricas reutilizando el mismo evaluador\n",
        "metricas = {\n",
        "    \"Accuracy\": evaluator.setMetricName(\"accuracy\").evaluate(predictions),\n",
        "    \"Precision\": evaluator.setMetricName(\"weightedPrecision\").evaluate(predictions),\n",
        "    \"Recall\": evaluator.setMetricName(\"weightedRecall\").evaluate(predictions),\n",
        "    \"F1 Score\": evaluator.setMetricName(\"f1\").evaluate(predictions)\n",
        "}\n",
        "\n",
        "# Mostrar resultados con formato mejorado\n",
        "for nombre, valor in metricas.items():\n",
        "    print(f\"{nombre:>10}: {valor:.4f} ({valor*100:.2f}%)\")"
      ],
      "metadata": {
        "colab": {
          "base_uri": "https://localhost:8080/"
        },
        "id": "6-EjtkQme7Z6",
        "outputId": "758121e3-1219-4678-881f-ac26726b309f"
      },
      "execution_count": 64,
      "outputs": [
        {
          "output_type": "stream",
          "name": "stdout",
          "text": [
            "  Accuracy: 0.9486 (94.86%)\n",
            " Precision: 0.9264 (92.64%)\n",
            "    Recall: 0.9486 (94.86%)\n",
            "  F1 Score: 0.9255 (92.55%)\n"
          ]
        }
      ]
    },
    {
      "cell_type": "markdown",
      "source": [
        "###Análisis de métricas:\n",
        "- Altísima tasa de falsos negativos (FN = 49):\n",
        "El modelo no identificó correctamente a 98% de los pacientes que sufrieron un derrame cerebral. Estos casos perdidos representan un riesgo crítico en entornos clínicos, ya que el tratamiento temprano puede marcar la diferencia entre la vida, la muerte o discapacidad severa.\n",
        "\n",
        "- Modelo fuertemente sesgado hacia la clase negativa (pacientes sanos):\n",
        "La gran cantidad de pacientes sanos ha provocado que el modelo aprenda a predecir principalmente “no ACV”.\n",
        "\n",
        "- Aunque el modelo de árbol de decisión muestra una exactitud general del 94.86%, esta métrica es engañosa. Su desempeño real en la tarea crítica de detectar pacientes con riesgo de ACV es deficiente, con apenas un 2% de recall. El modelo no es clínicamente viable en su estado actual."
      ],
      "metadata": {
        "id": "FSM6E7aGhHYC"
      }
    },
    {
      "cell_type": "markdown",
      "source": [
        "### Curva ROC-AUC"
      ],
      "metadata": {
        "id": "LeohmpPnG8ar"
      }
    },
    {
      "cell_type": "code",
      "source": [
        "import seaborn as sns\n",
        "from sklearn.metrics import roc_curve, auc\n",
        "\n",
        "# Obtener las probabilidades predichas y etiquetas reales\n",
        "predicciones = predictions.select(\"ACV\", \"probability\").toPandas()\n",
        "predicciones['score'] = predicciones['probability'].apply(lambda x: x[1])\n",
        "\n",
        "# Calcular curva ROC\n",
        "fpr, tpr, thresholds = roc_curve(predicciones['ACV'], predicciones['score'])\n",
        "roc_auc = auc(fpr, tpr)\n",
        "#Graficar\n",
        "plt.figure(figsize=(8, 6))\n",
        "sns.lineplot(x=fpr, y=tpr, color='darkorange', lw=2,\n",
        "             label=f'ROC curve (AUC = {roc_auc:.2f})')\n",
        "plt.plot([0, 1], [0, 1], color='navy', lw=2, linestyle='--')\n",
        "plt.fill_between(fpr, tpr, alpha=0.1, color='darkorange')\n",
        "plt.title('Curva ROC', fontsize=14)\n",
        "plt.xlabel('False Positive Rate', fontsize=12)\n",
        "plt.ylabel('True Positive Rate', fontsize=12)\n",
        "plt.legend(loc='lower right')\n",
        "sns.despine()\n",
        "plt.show()"
      ],
      "metadata": {
        "colab": {
          "base_uri": "https://localhost:8080/",
          "height": 569
        },
        "id": "TjeaXbg3joS7",
        "outputId": "6229afb8-7373-43dc-b21c-5e8a561bb872"
      },
      "execution_count": 69,
      "outputs": [
        {
          "output_type": "display_data",
          "data": {
            "text/plain": [
              "<Figure size 800x600 with 1 Axes>"
            ],
            "image/png": "[encoded data removed]"
          },
          "metadata": {}
        }
      ]
    },
    {
      "cell_type": "markdown",
      "source": [
        "### Análisis de Curva ROC-AUC\n",
        "- Aunque el modelo tiene un AUC aceptable (0.78), su desempeño real en la predicción binaria (con umbral fijo) fue muy pobre: Solo 1 verdadero positivo (TP) frente a 49 falsos negativos (FN).\n",
        "Esto sugiere que el umbral actual de clasificación es inadecuado, favoreciendo la clase mayoritaria (pacientes sanos).\n",
        "\n"
      ],
      "metadata": {
        "id": "1GzWRxR2kpWW"
      }
    },
    {
      "cell_type": "markdown",
      "source": [
        "# Conclusiones\n",
        "\n",
        "\n",
        "\n"
      ],
      "metadata": {
        "id": "kEirOag9N9Am"
      }
    },
    {
      "cell_type": "markdown",
      "source": [
        "- El conjunto de datos presenta un desbalance significativo en la variable objetivo (\"ACV\"). Hay una cantidad mucho mayor de registros de pacientes que no sufrieron un ACV (clase negativa) en comparación con aquellos que sí lo sufrieron (clase positiva). Este desbalance impactó directamente el rendimiento del modelo de clasificación, sesgándolo hacia la predicción de la clase mayoritaria.\n",
        "\n",
        "- Aunque el modelo de Árbol de Decisión mostró una alta precisión general (accuracy), métricas como la precisión, el recall y el F1 Score, así como la matriz de confusión, revelaron un rendimiento muy bajo en la identificación de la clase positiva (pacientes que sufrieron ACV). La alta tasa de falsos negativos y el bajo recall (apenas 2%) indican que el modelo no es efectivo para la detección de casos de interés.\n",
        "\n",
        "- A pesar de un AUC aceptable (0.78), el modelo actual con un umbral de clasificación fijo no es adecuado para un escenario clínico donde la detección de casos positivos es crucial. Es necesario explorar técnicas para manejar el desbalance de clases (como sobremuestreo, submuestreo o uso de métricas sensibles al desbalance) y posiblemente probar otros algoritmos de clasificación para mejorar la capacidad del modelo para identificar pacientes con riesgo de ACV."
      ],
      "metadata": {
        "id": "K5Ei4r2VmA4u"
      }
    }
  ],
  "metadata": {
    "application/vnd.databricks.v1+notebook": {
      "computePreferences": null,
      "dashboards": [],
      "environmentMetadata": {
        "base_environment": "",
        "client": "1"
      },
      "language": "python",
      "notebookMetadata": {
        "pythonIndentUnit": 4
      },
      "notebookName": "Velasquez _ 03_ 02",
      "widgets": {}
    },
    "colab": {
      "provenance": []
    },
    "language_info": {
      "name": "python"
    },
    "kernelspec": {
      "name": "python3",
      "display_name": "Python 3"
    }
  },
  "nbformat": 4,
  "nbformat_minor": 0
}